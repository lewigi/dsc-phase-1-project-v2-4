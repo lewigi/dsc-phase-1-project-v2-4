{
 "cells": [
  {
   "cell_type": "markdown",
   "metadata": {},
   "source": [
    "# Final Project Submission\n",
    "\n",
    "Please fill out:\n",
    "* Student name: Lewis Gathua Kamindu\n",
    "* Student pace: Full Time\n",
    "* Scheduled project review date/time: Friday 15th September, 2023.\n",
    "* Instructor name: \n",
    "* Blog post URL:\n"
   ]
  },
  {
   "cell_type": "markdown",
   "metadata": {},
   "source": [
    "## 1. Data Extraction & Understanding\n",
    "\n",
    "We have been provided with six sources of data including 'csv' and 'SQL' data. In this section, we will explore this data and find out it's characteristics and what information we can extract from it."
   ]
  },
  {
   "cell_type": "markdown",
   "metadata": {},
   "source": [
    "Importing packages."
   ]
  },
  {
   "cell_type": "code",
   "execution_count": 49,
   "metadata": {},
   "outputs": [],
   "source": [
    "# Your code here - remember to use markdown cells for comments as well!\n",
    "import pandas as pd\n",
    "import sqlite3"
   ]
  },
  {
   "cell_type": "markdown",
   "metadata": {},
   "source": [
    "### Box Office Movies"
   ]
  },
  {
   "cell_type": "code",
   "execution_count": 50,
   "metadata": {},
   "outputs": [
    {
     "data": {
      "text/html": [
       "<div>\n",
       "<style scoped>\n",
       "    .dataframe tbody tr th:only-of-type {\n",
       "        vertical-align: middle;\n",
       "    }\n",
       "\n",
       "    .dataframe tbody tr th {\n",
       "        vertical-align: top;\n",
       "    }\n",
       "\n",
       "    .dataframe thead th {\n",
       "        text-align: right;\n",
       "    }\n",
       "</style>\n",
       "<table border=\"1\" class=\"dataframe\">\n",
       "  <thead>\n",
       "    <tr style=\"text-align: right;\">\n",
       "      <th></th>\n",
       "      <th>title</th>\n",
       "      <th>studio</th>\n",
       "      <th>domestic_gross</th>\n",
       "      <th>foreign_gross</th>\n",
       "      <th>year</th>\n",
       "    </tr>\n",
       "  </thead>\n",
       "  <tbody>\n",
       "    <tr>\n",
       "      <th>0</th>\n",
       "      <td>Toy Story 3</td>\n",
       "      <td>BV</td>\n",
       "      <td>415000000.0</td>\n",
       "      <td>652000000</td>\n",
       "      <td>2010</td>\n",
       "    </tr>\n",
       "    <tr>\n",
       "      <th>1</th>\n",
       "      <td>Alice in Wonderland (2010)</td>\n",
       "      <td>BV</td>\n",
       "      <td>334200000.0</td>\n",
       "      <td>691300000</td>\n",
       "      <td>2010</td>\n",
       "    </tr>\n",
       "    <tr>\n",
       "      <th>2</th>\n",
       "      <td>Harry Potter and the Deathly Hallows Part 1</td>\n",
       "      <td>WB</td>\n",
       "      <td>296000000.0</td>\n",
       "      <td>664300000</td>\n",
       "      <td>2010</td>\n",
       "    </tr>\n",
       "    <tr>\n",
       "      <th>3</th>\n",
       "      <td>Inception</td>\n",
       "      <td>WB</td>\n",
       "      <td>292600000.0</td>\n",
       "      <td>535700000</td>\n",
       "      <td>2010</td>\n",
       "    </tr>\n",
       "    <tr>\n",
       "      <th>4</th>\n",
       "      <td>Shrek Forever After</td>\n",
       "      <td>P/DW</td>\n",
       "      <td>238700000.0</td>\n",
       "      <td>513900000</td>\n",
       "      <td>2010</td>\n",
       "    </tr>\n",
       "  </tbody>\n",
       "</table>\n",
       "</div>"
      ],
      "text/plain": [
       "                                         title studio  domestic_gross  \\\n",
       "0                                  Toy Story 3     BV     415000000.0   \n",
       "1                   Alice in Wonderland (2010)     BV     334200000.0   \n",
       "2  Harry Potter and the Deathly Hallows Part 1     WB     296000000.0   \n",
       "3                                    Inception     WB     292600000.0   \n",
       "4                          Shrek Forever After   P/DW     238700000.0   \n",
       "\n",
       "  foreign_gross  year  \n",
       "0     652000000  2010  \n",
       "1     691300000  2010  \n",
       "2     664300000  2010  \n",
       "3     535700000  2010  \n",
       "4     513900000  2010  "
      ]
     },
     "execution_count": 50,
     "metadata": {},
     "output_type": "execute_result"
    }
   ],
   "source": [
    "bom_movies = pd.read_csv('zippedData/bom.movie_gross.csv.gz')\n",
    "\n",
    "bom_movies.head()\n"
   ]
  },
  {
   "cell_type": "code",
   "execution_count": 51,
   "metadata": {},
   "outputs": [
    {
     "name": "stdout",
     "output_type": "stream",
     "text": [
      "<class 'pandas.core.frame.DataFrame'>\n",
      "RangeIndex: 3387 entries, 0 to 3386\n",
      "Data columns (total 5 columns):\n",
      " #   Column          Non-Null Count  Dtype  \n",
      "---  ------          --------------  -----  \n",
      " 0   title           3387 non-null   object \n",
      " 1   studio          3382 non-null   object \n",
      " 2   domestic_gross  3359 non-null   float64\n",
      " 3   foreign_gross   2037 non-null   object \n",
      " 4   year            3387 non-null   int64  \n",
      "dtypes: float64(1), int64(1), object(3)\n",
      "memory usage: 132.4+ KB\n"
     ]
    }
   ],
   "source": [
    "bom_movies.info()"
   ]
  },
  {
   "cell_type": "markdown",
   "metadata": {},
   "source": [
    "### The Movie Database (TMDB)"
   ]
  },
  {
   "cell_type": "code",
   "execution_count": 52,
   "metadata": {},
   "outputs": [
    {
     "data": {
      "text/html": [
       "<div>\n",
       "<style scoped>\n",
       "    .dataframe tbody tr th:only-of-type {\n",
       "        vertical-align: middle;\n",
       "    }\n",
       "\n",
       "    .dataframe tbody tr th {\n",
       "        vertical-align: top;\n",
       "    }\n",
       "\n",
       "    .dataframe thead th {\n",
       "        text-align: right;\n",
       "    }\n",
       "</style>\n",
       "<table border=\"1\" class=\"dataframe\">\n",
       "  <thead>\n",
       "    <tr style=\"text-align: right;\">\n",
       "      <th></th>\n",
       "      <th>Unnamed: 0</th>\n",
       "      <th>genre_ids</th>\n",
       "      <th>id</th>\n",
       "      <th>original_language</th>\n",
       "      <th>original_title</th>\n",
       "      <th>popularity</th>\n",
       "      <th>release_date</th>\n",
       "      <th>title</th>\n",
       "      <th>vote_average</th>\n",
       "      <th>vote_count</th>\n",
       "    </tr>\n",
       "  </thead>\n",
       "  <tbody>\n",
       "    <tr>\n",
       "      <th>0</th>\n",
       "      <td>0</td>\n",
       "      <td>[12, 14, 10751]</td>\n",
       "      <td>12444</td>\n",
       "      <td>en</td>\n",
       "      <td>Harry Potter and the Deathly Hallows: Part 1</td>\n",
       "      <td>33.533</td>\n",
       "      <td>2010-11-19</td>\n",
       "      <td>Harry Potter and the Deathly Hallows: Part 1</td>\n",
       "      <td>7.7</td>\n",
       "      <td>10788</td>\n",
       "    </tr>\n",
       "    <tr>\n",
       "      <th>1</th>\n",
       "      <td>1</td>\n",
       "      <td>[14, 12, 16, 10751]</td>\n",
       "      <td>10191</td>\n",
       "      <td>en</td>\n",
       "      <td>How to Train Your Dragon</td>\n",
       "      <td>28.734</td>\n",
       "      <td>2010-03-26</td>\n",
       "      <td>How to Train Your Dragon</td>\n",
       "      <td>7.7</td>\n",
       "      <td>7610</td>\n",
       "    </tr>\n",
       "    <tr>\n",
       "      <th>2</th>\n",
       "      <td>2</td>\n",
       "      <td>[12, 28, 878]</td>\n",
       "      <td>10138</td>\n",
       "      <td>en</td>\n",
       "      <td>Iron Man 2</td>\n",
       "      <td>28.515</td>\n",
       "      <td>2010-05-07</td>\n",
       "      <td>Iron Man 2</td>\n",
       "      <td>6.8</td>\n",
       "      <td>12368</td>\n",
       "    </tr>\n",
       "    <tr>\n",
       "      <th>3</th>\n",
       "      <td>3</td>\n",
       "      <td>[16, 35, 10751]</td>\n",
       "      <td>862</td>\n",
       "      <td>en</td>\n",
       "      <td>Toy Story</td>\n",
       "      <td>28.005</td>\n",
       "      <td>1995-11-22</td>\n",
       "      <td>Toy Story</td>\n",
       "      <td>7.9</td>\n",
       "      <td>10174</td>\n",
       "    </tr>\n",
       "    <tr>\n",
       "      <th>4</th>\n",
       "      <td>4</td>\n",
       "      <td>[28, 878, 12]</td>\n",
       "      <td>27205</td>\n",
       "      <td>en</td>\n",
       "      <td>Inception</td>\n",
       "      <td>27.920</td>\n",
       "      <td>2010-07-16</td>\n",
       "      <td>Inception</td>\n",
       "      <td>8.3</td>\n",
       "      <td>22186</td>\n",
       "    </tr>\n",
       "  </tbody>\n",
       "</table>\n",
       "</div>"
      ],
      "text/plain": [
       "   Unnamed: 0            genre_ids     id original_language  \\\n",
       "0           0      [12, 14, 10751]  12444                en   \n",
       "1           1  [14, 12, 16, 10751]  10191                en   \n",
       "2           2        [12, 28, 878]  10138                en   \n",
       "3           3      [16, 35, 10751]    862                en   \n",
       "4           4        [28, 878, 12]  27205                en   \n",
       "\n",
       "                                 original_title  popularity release_date  \\\n",
       "0  Harry Potter and the Deathly Hallows: Part 1      33.533   2010-11-19   \n",
       "1                      How to Train Your Dragon      28.734   2010-03-26   \n",
       "2                                    Iron Man 2      28.515   2010-05-07   \n",
       "3                                     Toy Story      28.005   1995-11-22   \n",
       "4                                     Inception      27.920   2010-07-16   \n",
       "\n",
       "                                          title  vote_average  vote_count  \n",
       "0  Harry Potter and the Deathly Hallows: Part 1           7.7       10788  \n",
       "1                      How to Train Your Dragon           7.7        7610  \n",
       "2                                    Iron Man 2           6.8       12368  \n",
       "3                                     Toy Story           7.9       10174  \n",
       "4                                     Inception           8.3       22186  "
      ]
     },
     "execution_count": 52,
     "metadata": {},
     "output_type": "execute_result"
    }
   ],
   "source": [
    "tmdb_movies = pd.read_csv('zippedData/tmdb.movies.csv.gz')\n",
    "\n",
    "tmdb_movies.head()"
   ]
  },
  {
   "cell_type": "code",
   "execution_count": 53,
   "metadata": {},
   "outputs": [
    {
     "name": "stdout",
     "output_type": "stream",
     "text": [
      "<class 'pandas.core.frame.DataFrame'>\n",
      "RangeIndex: 26517 entries, 0 to 26516\n",
      "Data columns (total 10 columns):\n",
      " #   Column             Non-Null Count  Dtype  \n",
      "---  ------             --------------  -----  \n",
      " 0   Unnamed: 0         26517 non-null  int64  \n",
      " 1   genre_ids          26517 non-null  object \n",
      " 2   id                 26517 non-null  int64  \n",
      " 3   original_language  26517 non-null  object \n",
      " 4   original_title     26517 non-null  object \n",
      " 5   popularity         26517 non-null  float64\n",
      " 6   release_date       26517 non-null  object \n",
      " 7   title              26517 non-null  object \n",
      " 8   vote_average       26517 non-null  float64\n",
      " 9   vote_count         26517 non-null  int64  \n",
      "dtypes: float64(2), int64(3), object(5)\n",
      "memory usage: 2.0+ MB\n"
     ]
    }
   ],
   "source": [
    "tmdb_movies.info()"
   ]
  },
  {
   "cell_type": "markdown",
   "metadata": {},
   "source": [
    "### The Numbers Movie Budgets"
   ]
  },
  {
   "cell_type": "code",
   "execution_count": 54,
   "metadata": {},
   "outputs": [
    {
     "data": {
      "text/html": [
       "<div>\n",
       "<style scoped>\n",
       "    .dataframe tbody tr th:only-of-type {\n",
       "        vertical-align: middle;\n",
       "    }\n",
       "\n",
       "    .dataframe tbody tr th {\n",
       "        vertical-align: top;\n",
       "    }\n",
       "\n",
       "    .dataframe thead th {\n",
       "        text-align: right;\n",
       "    }\n",
       "</style>\n",
       "<table border=\"1\" class=\"dataframe\">\n",
       "  <thead>\n",
       "    <tr style=\"text-align: right;\">\n",
       "      <th></th>\n",
       "      <th>id</th>\n",
       "      <th>release_date</th>\n",
       "      <th>movie</th>\n",
       "      <th>production_budget</th>\n",
       "      <th>domestic_gross</th>\n",
       "      <th>worldwide_gross</th>\n",
       "    </tr>\n",
       "  </thead>\n",
       "  <tbody>\n",
       "    <tr>\n",
       "      <th>0</th>\n",
       "      <td>1</td>\n",
       "      <td>Dec 18, 2009</td>\n",
       "      <td>Avatar</td>\n",
       "      <td>$425,000,000</td>\n",
       "      <td>$760,507,625</td>\n",
       "      <td>$2,776,345,279</td>\n",
       "    </tr>\n",
       "    <tr>\n",
       "      <th>1</th>\n",
       "      <td>2</td>\n",
       "      <td>May 20, 2011</td>\n",
       "      <td>Pirates of the Caribbean: On Stranger Tides</td>\n",
       "      <td>$410,600,000</td>\n",
       "      <td>$241,063,875</td>\n",
       "      <td>$1,045,663,875</td>\n",
       "    </tr>\n",
       "    <tr>\n",
       "      <th>2</th>\n",
       "      <td>3</td>\n",
       "      <td>Jun 7, 2019</td>\n",
       "      <td>Dark Phoenix</td>\n",
       "      <td>$350,000,000</td>\n",
       "      <td>$42,762,350</td>\n",
       "      <td>$149,762,350</td>\n",
       "    </tr>\n",
       "    <tr>\n",
       "      <th>3</th>\n",
       "      <td>4</td>\n",
       "      <td>May 1, 2015</td>\n",
       "      <td>Avengers: Age of Ultron</td>\n",
       "      <td>$330,600,000</td>\n",
       "      <td>$459,005,868</td>\n",
       "      <td>$1,403,013,963</td>\n",
       "    </tr>\n",
       "    <tr>\n",
       "      <th>4</th>\n",
       "      <td>5</td>\n",
       "      <td>Dec 15, 2017</td>\n",
       "      <td>Star Wars Ep. VIII: The Last Jedi</td>\n",
       "      <td>$317,000,000</td>\n",
       "      <td>$620,181,382</td>\n",
       "      <td>$1,316,721,747</td>\n",
       "    </tr>\n",
       "  </tbody>\n",
       "</table>\n",
       "</div>"
      ],
      "text/plain": [
       "   id  release_date                                        movie  \\\n",
       "0   1  Dec 18, 2009                                       Avatar   \n",
       "1   2  May 20, 2011  Pirates of the Caribbean: On Stranger Tides   \n",
       "2   3   Jun 7, 2019                                 Dark Phoenix   \n",
       "3   4   May 1, 2015                      Avengers: Age of Ultron   \n",
       "4   5  Dec 15, 2017            Star Wars Ep. VIII: The Last Jedi   \n",
       "\n",
       "  production_budget domestic_gross worldwide_gross  \n",
       "0      $425,000,000   $760,507,625  $2,776,345,279  \n",
       "1      $410,600,000   $241,063,875  $1,045,663,875  \n",
       "2      $350,000,000    $42,762,350    $149,762,350  \n",
       "3      $330,600,000   $459,005,868  $1,403,013,963  \n",
       "4      $317,000,000   $620,181,382  $1,316,721,747  "
      ]
     },
     "execution_count": 54,
     "metadata": {},
     "output_type": "execute_result"
    }
   ],
   "source": [
    "movie_budgets = pd.read_csv('zippedData/tn.movie_budgets.csv.gz')\n",
    "\n",
    "movie_budgets.head()"
   ]
  },
  {
   "cell_type": "code",
   "execution_count": 55,
   "metadata": {},
   "outputs": [
    {
     "name": "stdout",
     "output_type": "stream",
     "text": [
      "<class 'pandas.core.frame.DataFrame'>\n",
      "RangeIndex: 5782 entries, 0 to 5781\n",
      "Data columns (total 6 columns):\n",
      " #   Column             Non-Null Count  Dtype \n",
      "---  ------             --------------  ----- \n",
      " 0   id                 5782 non-null   int64 \n",
      " 1   release_date       5782 non-null   object\n",
      " 2   movie              5782 non-null   object\n",
      " 3   production_budget  5782 non-null   object\n",
      " 4   domestic_gross     5782 non-null   object\n",
      " 5   worldwide_gross    5782 non-null   object\n",
      "dtypes: int64(1), object(5)\n",
      "memory usage: 271.2+ KB\n"
     ]
    }
   ],
   "source": [
    "movie_budgets.info()"
   ]
  },
  {
   "cell_type": "markdown",
   "metadata": {},
   "source": [
    "### Rotten Tomatoes Movie Information"
   ]
  },
  {
   "cell_type": "code",
   "execution_count": 56,
   "metadata": {},
   "outputs": [
    {
     "data": {
      "text/html": [
       "<div>\n",
       "<style scoped>\n",
       "    .dataframe tbody tr th:only-of-type {\n",
       "        vertical-align: middle;\n",
       "    }\n",
       "\n",
       "    .dataframe tbody tr th {\n",
       "        vertical-align: top;\n",
       "    }\n",
       "\n",
       "    .dataframe thead th {\n",
       "        text-align: right;\n",
       "    }\n",
       "</style>\n",
       "<table border=\"1\" class=\"dataframe\">\n",
       "  <thead>\n",
       "    <tr style=\"text-align: right;\">\n",
       "      <th></th>\n",
       "      <th>id</th>\n",
       "      <th>synopsis</th>\n",
       "      <th>rating</th>\n",
       "      <th>genre</th>\n",
       "      <th>director</th>\n",
       "      <th>writer</th>\n",
       "      <th>theater_date</th>\n",
       "      <th>dvd_date</th>\n",
       "      <th>currency</th>\n",
       "      <th>box_office</th>\n",
       "      <th>runtime</th>\n",
       "      <th>studio</th>\n",
       "    </tr>\n",
       "  </thead>\n",
       "  <tbody>\n",
       "    <tr>\n",
       "      <th>1555</th>\n",
       "      <td>1996</td>\n",
       "      <td>Forget terrorists or hijackers -- there's a ha...</td>\n",
       "      <td>R</td>\n",
       "      <td>Action and Adventure|Horror|Mystery and Suspense</td>\n",
       "      <td>NaN</td>\n",
       "      <td>NaN</td>\n",
       "      <td>Aug 18, 2006</td>\n",
       "      <td>Jan 2, 2007</td>\n",
       "      <td>$</td>\n",
       "      <td>33,886,034</td>\n",
       "      <td>106 minutes</td>\n",
       "      <td>New Line Cinema</td>\n",
       "    </tr>\n",
       "    <tr>\n",
       "      <th>1556</th>\n",
       "      <td>1997</td>\n",
       "      <td>The popular Saturday Night Live sketch was exp...</td>\n",
       "      <td>PG</td>\n",
       "      <td>Comedy|Science Fiction and Fantasy</td>\n",
       "      <td>Steve Barron</td>\n",
       "      <td>Terry Turner|Tom Davis|Dan Aykroyd|Bonnie Turner</td>\n",
       "      <td>Jul 23, 1993</td>\n",
       "      <td>Apr 17, 2001</td>\n",
       "      <td>NaN</td>\n",
       "      <td>NaN</td>\n",
       "      <td>88 minutes</td>\n",
       "      <td>Paramount Vantage</td>\n",
       "    </tr>\n",
       "    <tr>\n",
       "      <th>1557</th>\n",
       "      <td>1998</td>\n",
       "      <td>Based on a novel by Richard Powell, when the l...</td>\n",
       "      <td>G</td>\n",
       "      <td>Classics|Comedy|Drama|Musical and Performing Arts</td>\n",
       "      <td>Gordon Douglas</td>\n",
       "      <td>NaN</td>\n",
       "      <td>Jan 1, 1962</td>\n",
       "      <td>May 11, 2004</td>\n",
       "      <td>NaN</td>\n",
       "      <td>NaN</td>\n",
       "      <td>111 minutes</td>\n",
       "      <td>NaN</td>\n",
       "    </tr>\n",
       "    <tr>\n",
       "      <th>1558</th>\n",
       "      <td>1999</td>\n",
       "      <td>The Sandlot is a coming-of-age story about a g...</td>\n",
       "      <td>PG</td>\n",
       "      <td>Comedy|Drama|Kids and Family|Sports and Fitness</td>\n",
       "      <td>David Mickey Evans</td>\n",
       "      <td>David Mickey Evans|Robert Gunter</td>\n",
       "      <td>Apr 1, 1993</td>\n",
       "      <td>Jan 29, 2002</td>\n",
       "      <td>NaN</td>\n",
       "      <td>NaN</td>\n",
       "      <td>101 minutes</td>\n",
       "      <td>NaN</td>\n",
       "    </tr>\n",
       "    <tr>\n",
       "      <th>1559</th>\n",
       "      <td>2000</td>\n",
       "      <td>Suspended from the force, Paris cop Hubert is ...</td>\n",
       "      <td>R</td>\n",
       "      <td>Action and Adventure|Art House and Internation...</td>\n",
       "      <td>NaN</td>\n",
       "      <td>Luc Besson</td>\n",
       "      <td>Sep 27, 2001</td>\n",
       "      <td>Feb 11, 2003</td>\n",
       "      <td>NaN</td>\n",
       "      <td>NaN</td>\n",
       "      <td>94 minutes</td>\n",
       "      <td>Columbia Pictures</td>\n",
       "    </tr>\n",
       "  </tbody>\n",
       "</table>\n",
       "</div>"
      ],
      "text/plain": [
       "        id                                           synopsis rating  \\\n",
       "1555  1996  Forget terrorists or hijackers -- there's a ha...      R   \n",
       "1556  1997  The popular Saturday Night Live sketch was exp...     PG   \n",
       "1557  1998  Based on a novel by Richard Powell, when the l...      G   \n",
       "1558  1999  The Sandlot is a coming-of-age story about a g...     PG   \n",
       "1559  2000  Suspended from the force, Paris cop Hubert is ...      R   \n",
       "\n",
       "                                                  genre            director  \\\n",
       "1555   Action and Adventure|Horror|Mystery and Suspense                 NaN   \n",
       "1556                 Comedy|Science Fiction and Fantasy        Steve Barron   \n",
       "1557  Classics|Comedy|Drama|Musical and Performing Arts      Gordon Douglas   \n",
       "1558    Comedy|Drama|Kids and Family|Sports and Fitness  David Mickey Evans   \n",
       "1559  Action and Adventure|Art House and Internation...                 NaN   \n",
       "\n",
       "                                                writer  theater_date  \\\n",
       "1555                                               NaN  Aug 18, 2006   \n",
       "1556  Terry Turner|Tom Davis|Dan Aykroyd|Bonnie Turner  Jul 23, 1993   \n",
       "1557                                               NaN   Jan 1, 1962   \n",
       "1558                  David Mickey Evans|Robert Gunter   Apr 1, 1993   \n",
       "1559                                        Luc Besson  Sep 27, 2001   \n",
       "\n",
       "          dvd_date currency  box_office      runtime             studio  \n",
       "1555   Jan 2, 2007        $  33,886,034  106 minutes    New Line Cinema  \n",
       "1556  Apr 17, 2001      NaN         NaN   88 minutes  Paramount Vantage  \n",
       "1557  May 11, 2004      NaN         NaN  111 minutes                NaN  \n",
       "1558  Jan 29, 2002      NaN         NaN  101 minutes                NaN  \n",
       "1559  Feb 11, 2003      NaN         NaN   94 minutes  Columbia Pictures  "
      ]
     },
     "execution_count": 56,
     "metadata": {},
     "output_type": "execute_result"
    }
   ],
   "source": [
    "rt_movie_info = pd.read_csv('zippedData/rt.movie_info.tsv.gz', delimiter='\\t')\n",
    "\n",
    "rt_movie_info.tail()"
   ]
  },
  {
   "cell_type": "code",
   "execution_count": 57,
   "metadata": {},
   "outputs": [
    {
     "name": "stdout",
     "output_type": "stream",
     "text": [
      "<class 'pandas.core.frame.DataFrame'>\n",
      "RangeIndex: 1560 entries, 0 to 1559\n",
      "Data columns (total 12 columns):\n",
      " #   Column        Non-Null Count  Dtype \n",
      "---  ------        --------------  ----- \n",
      " 0   id            1560 non-null   int64 \n",
      " 1   synopsis      1498 non-null   object\n",
      " 2   rating        1557 non-null   object\n",
      " 3   genre         1552 non-null   object\n",
      " 4   director      1361 non-null   object\n",
      " 5   writer        1111 non-null   object\n",
      " 6   theater_date  1201 non-null   object\n",
      " 7   dvd_date      1201 non-null   object\n",
      " 8   currency      340 non-null    object\n",
      " 9   box_office    340 non-null    object\n",
      " 10  runtime       1530 non-null   object\n",
      " 11  studio        494 non-null    object\n",
      "dtypes: int64(1), object(11)\n",
      "memory usage: 146.4+ KB\n"
     ]
    }
   ],
   "source": [
    "rt_movie_info.info()"
   ]
  },
  {
   "cell_type": "markdown",
   "metadata": {},
   "source": [
    "### Rotten Tomatoes Reviews"
   ]
  },
  {
   "cell_type": "code",
   "execution_count": 58,
   "metadata": {},
   "outputs": [
    {
     "data": {
      "text/html": [
       "<div>\n",
       "<style scoped>\n",
       "    .dataframe tbody tr th:only-of-type {\n",
       "        vertical-align: middle;\n",
       "    }\n",
       "\n",
       "    .dataframe tbody tr th {\n",
       "        vertical-align: top;\n",
       "    }\n",
       "\n",
       "    .dataframe thead th {\n",
       "        text-align: right;\n",
       "    }\n",
       "</style>\n",
       "<table border=\"1\" class=\"dataframe\">\n",
       "  <thead>\n",
       "    <tr style=\"text-align: right;\">\n",
       "      <th></th>\n",
       "      <th>id</th>\n",
       "      <th>review</th>\n",
       "      <th>rating</th>\n",
       "      <th>fresh</th>\n",
       "      <th>critic</th>\n",
       "      <th>top_critic</th>\n",
       "      <th>publisher</th>\n",
       "      <th>date</th>\n",
       "    </tr>\n",
       "  </thead>\n",
       "  <tbody>\n",
       "    <tr>\n",
       "      <th>54427</th>\n",
       "      <td>2000</td>\n",
       "      <td>The real charm of this trifle is the deadpan c...</td>\n",
       "      <td>NaN</td>\n",
       "      <td>fresh</td>\n",
       "      <td>Laura Sinagra</td>\n",
       "      <td>1</td>\n",
       "      <td>Village Voice</td>\n",
       "      <td>September 24, 2002</td>\n",
       "    </tr>\n",
       "    <tr>\n",
       "      <th>54428</th>\n",
       "      <td>2000</td>\n",
       "      <td>NaN</td>\n",
       "      <td>1/5</td>\n",
       "      <td>rotten</td>\n",
       "      <td>Michael Szymanski</td>\n",
       "      <td>0</td>\n",
       "      <td>Zap2it.com</td>\n",
       "      <td>September 21, 2005</td>\n",
       "    </tr>\n",
       "    <tr>\n",
       "      <th>54429</th>\n",
       "      <td>2000</td>\n",
       "      <td>NaN</td>\n",
       "      <td>2/5</td>\n",
       "      <td>rotten</td>\n",
       "      <td>Emanuel Levy</td>\n",
       "      <td>0</td>\n",
       "      <td>EmanuelLevy.Com</td>\n",
       "      <td>July 17, 2005</td>\n",
       "    </tr>\n",
       "    <tr>\n",
       "      <th>54430</th>\n",
       "      <td>2000</td>\n",
       "      <td>NaN</td>\n",
       "      <td>2.5/5</td>\n",
       "      <td>rotten</td>\n",
       "      <td>Christopher Null</td>\n",
       "      <td>0</td>\n",
       "      <td>Filmcritic.com</td>\n",
       "      <td>September 7, 2003</td>\n",
       "    </tr>\n",
       "    <tr>\n",
       "      <th>54431</th>\n",
       "      <td>2000</td>\n",
       "      <td>NaN</td>\n",
       "      <td>3/5</td>\n",
       "      <td>fresh</td>\n",
       "      <td>Nicolas Lacroix</td>\n",
       "      <td>0</td>\n",
       "      <td>Showbizz.net</td>\n",
       "      <td>November 12, 2002</td>\n",
       "    </tr>\n",
       "  </tbody>\n",
       "</table>\n",
       "</div>"
      ],
      "text/plain": [
       "         id                                             review rating   fresh  \\\n",
       "54427  2000  The real charm of this trifle is the deadpan c...    NaN   fresh   \n",
       "54428  2000                                                NaN    1/5  rotten   \n",
       "54429  2000                                                NaN    2/5  rotten   \n",
       "54430  2000                                                NaN  2.5/5  rotten   \n",
       "54431  2000                                                NaN    3/5   fresh   \n",
       "\n",
       "                  critic  top_critic        publisher                date  \n",
       "54427      Laura Sinagra           1    Village Voice  September 24, 2002  \n",
       "54428  Michael Szymanski           0       Zap2it.com  September 21, 2005  \n",
       "54429       Emanuel Levy           0  EmanuelLevy.Com       July 17, 2005  \n",
       "54430   Christopher Null           0   Filmcritic.com   September 7, 2003  \n",
       "54431    Nicolas Lacroix           0     Showbizz.net   November 12, 2002  "
      ]
     },
     "execution_count": 58,
     "metadata": {},
     "output_type": "execute_result"
    }
   ],
   "source": [
    "rt_movie_reviews = pd.read_csv('zippedData/rt.reviews.tsv.gz', encoding='unicode_escape', sep='\\t')\n",
    "\n",
    "rt_movie_reviews.tail()"
   ]
  },
  {
   "cell_type": "code",
   "execution_count": 59,
   "metadata": {},
   "outputs": [
    {
     "name": "stdout",
     "output_type": "stream",
     "text": [
      "<class 'pandas.core.frame.DataFrame'>\n",
      "RangeIndex: 54432 entries, 0 to 54431\n",
      "Data columns (total 8 columns):\n",
      " #   Column      Non-Null Count  Dtype \n",
      "---  ------      --------------  ----- \n",
      " 0   id          54432 non-null  int64 \n",
      " 1   review      48869 non-null  object\n",
      " 2   rating      40915 non-null  object\n",
      " 3   fresh       54432 non-null  object\n",
      " 4   critic      51710 non-null  object\n",
      " 5   top_critic  54432 non-null  int64 \n",
      " 6   publisher   54123 non-null  object\n",
      " 7   date        54432 non-null  object\n",
      "dtypes: int64(2), object(6)\n",
      "memory usage: 3.3+ MB\n"
     ]
    }
   ],
   "source": [
    "rt_movie_reviews.info()"
   ]
  },
  {
   "cell_type": "markdown",
   "metadata": {},
   "source": [
    "### Internet Movie Database (IMDB)"
   ]
  },
  {
   "cell_type": "code",
   "execution_count": 60,
   "metadata": {},
   "outputs": [
    {
     "data": {
      "text/html": [
       "<div>\n",
       "<style scoped>\n",
       "    .dataframe tbody tr th:only-of-type {\n",
       "        vertical-align: middle;\n",
       "    }\n",
       "\n",
       "    .dataframe tbody tr th {\n",
       "        vertical-align: top;\n",
       "    }\n",
       "\n",
       "    .dataframe thead th {\n",
       "        text-align: right;\n",
       "    }\n",
       "</style>\n",
       "<table border=\"1\" class=\"dataframe\">\n",
       "  <thead>\n",
       "    <tr style=\"text-align: right;\">\n",
       "      <th></th>\n",
       "      <th>name</th>\n",
       "    </tr>\n",
       "  </thead>\n",
       "  <tbody>\n",
       "    <tr>\n",
       "      <th>0</th>\n",
       "      <td>movie_basics</td>\n",
       "    </tr>\n",
       "    <tr>\n",
       "      <th>1</th>\n",
       "      <td>directors</td>\n",
       "    </tr>\n",
       "    <tr>\n",
       "      <th>2</th>\n",
       "      <td>known_for</td>\n",
       "    </tr>\n",
       "    <tr>\n",
       "      <th>3</th>\n",
       "      <td>movie_akas</td>\n",
       "    </tr>\n",
       "    <tr>\n",
       "      <th>4</th>\n",
       "      <td>movie_ratings</td>\n",
       "    </tr>\n",
       "    <tr>\n",
       "      <th>5</th>\n",
       "      <td>persons</td>\n",
       "    </tr>\n",
       "    <tr>\n",
       "      <th>6</th>\n",
       "      <td>principals</td>\n",
       "    </tr>\n",
       "    <tr>\n",
       "      <th>7</th>\n",
       "      <td>writers</td>\n",
       "    </tr>\n",
       "  </tbody>\n",
       "</table>\n",
       "</div>"
      ],
      "text/plain": [
       "            name\n",
       "0   movie_basics\n",
       "1      directors\n",
       "2      known_for\n",
       "3     movie_akas\n",
       "4  movie_ratings\n",
       "5        persons\n",
       "6     principals\n",
       "7        writers"
      ]
     },
     "execution_count": 60,
     "metadata": {},
     "output_type": "execute_result"
    }
   ],
   "source": [
    "conn = sqlite3.connect('zippedData/im.db/im.db')\n",
    "\n",
    "imdb_tables = pd.read_sql(\"\"\"SELECT name FROM sqlite_master WHERE type = 'table';\"\"\", conn)\n",
    "\n",
    "imdb_tables"
   ]
  },
  {
   "cell_type": "code",
   "execution_count": 61,
   "metadata": {},
   "outputs": [
    {
     "data": {
      "text/html": [
       "<div>\n",
       "<style scoped>\n",
       "    .dataframe tbody tr th:only-of-type {\n",
       "        vertical-align: middle;\n",
       "    }\n",
       "\n",
       "    .dataframe tbody tr th {\n",
       "        vertical-align: top;\n",
       "    }\n",
       "\n",
       "    .dataframe thead th {\n",
       "        text-align: right;\n",
       "    }\n",
       "</style>\n",
       "<table border=\"1\" class=\"dataframe\">\n",
       "  <thead>\n",
       "    <tr style=\"text-align: right;\">\n",
       "      <th></th>\n",
       "      <th>movie_id</th>\n",
       "      <th>primary_title</th>\n",
       "      <th>original_title</th>\n",
       "      <th>start_year</th>\n",
       "      <th>runtime_minutes</th>\n",
       "      <th>genres</th>\n",
       "    </tr>\n",
       "  </thead>\n",
       "  <tbody>\n",
       "    <tr>\n",
       "      <th>0</th>\n",
       "      <td>tt0063540</td>\n",
       "      <td>Sunghursh</td>\n",
       "      <td>Sunghursh</td>\n",
       "      <td>2013</td>\n",
       "      <td>175.0</td>\n",
       "      <td>Action,Crime,Drama</td>\n",
       "    </tr>\n",
       "    <tr>\n",
       "      <th>1</th>\n",
       "      <td>tt0066787</td>\n",
       "      <td>One Day Before the Rainy Season</td>\n",
       "      <td>Ashad Ka Ek Din</td>\n",
       "      <td>2019</td>\n",
       "      <td>114.0</td>\n",
       "      <td>Biography,Drama</td>\n",
       "    </tr>\n",
       "    <tr>\n",
       "      <th>2</th>\n",
       "      <td>tt0069049</td>\n",
       "      <td>The Other Side of the Wind</td>\n",
       "      <td>The Other Side of the Wind</td>\n",
       "      <td>2018</td>\n",
       "      <td>122.0</td>\n",
       "      <td>Drama</td>\n",
       "    </tr>\n",
       "    <tr>\n",
       "      <th>3</th>\n",
       "      <td>tt0069204</td>\n",
       "      <td>Sabse Bada Sukh</td>\n",
       "      <td>Sabse Bada Sukh</td>\n",
       "      <td>2018</td>\n",
       "      <td>NaN</td>\n",
       "      <td>Comedy,Drama</td>\n",
       "    </tr>\n",
       "    <tr>\n",
       "      <th>4</th>\n",
       "      <td>tt0100275</td>\n",
       "      <td>The Wandering Soap Opera</td>\n",
       "      <td>La Telenovela Errante</td>\n",
       "      <td>2017</td>\n",
       "      <td>80.0</td>\n",
       "      <td>Comedy,Drama,Fantasy</td>\n",
       "    </tr>\n",
       "  </tbody>\n",
       "</table>\n",
       "</div>"
      ],
      "text/plain": [
       "    movie_id                    primary_title              original_title  \\\n",
       "0  tt0063540                        Sunghursh                   Sunghursh   \n",
       "1  tt0066787  One Day Before the Rainy Season             Ashad Ka Ek Din   \n",
       "2  tt0069049       The Other Side of the Wind  The Other Side of the Wind   \n",
       "3  tt0069204                  Sabse Bada Sukh             Sabse Bada Sukh   \n",
       "4  tt0100275         The Wandering Soap Opera       La Telenovela Errante   \n",
       "\n",
       "   start_year  runtime_minutes                genres  \n",
       "0        2013            175.0    Action,Crime,Drama  \n",
       "1        2019            114.0       Biography,Drama  \n",
       "2        2018            122.0                 Drama  \n",
       "3        2018              NaN          Comedy,Drama  \n",
       "4        2017             80.0  Comedy,Drama,Fantasy  "
      ]
     },
     "execution_count": 61,
     "metadata": {},
     "output_type": "execute_result"
    }
   ],
   "source": [
    "movie_basics = pd.read_sql(\"\"\"select * from movie_basics\"\"\", conn)\n",
    "\n",
    "movie_basics.head()"
   ]
  },
  {
   "cell_type": "code",
   "execution_count": 62,
   "metadata": {},
   "outputs": [
    {
     "name": "stdout",
     "output_type": "stream",
     "text": [
      "<class 'pandas.core.frame.DataFrame'>\n",
      "RangeIndex: 146144 entries, 0 to 146143\n",
      "Data columns (total 6 columns):\n",
      " #   Column           Non-Null Count   Dtype  \n",
      "---  ------           --------------   -----  \n",
      " 0   movie_id         146144 non-null  object \n",
      " 1   primary_title    146144 non-null  object \n",
      " 2   original_title   146123 non-null  object \n",
      " 3   start_year       146144 non-null  int64  \n",
      " 4   runtime_minutes  114405 non-null  float64\n",
      " 5   genres           140736 non-null  object \n",
      "dtypes: float64(1), int64(1), object(4)\n",
      "memory usage: 6.7+ MB\n"
     ]
    }
   ],
   "source": [
    "movie_basics.info()"
   ]
  },
  {
   "cell_type": "code",
   "execution_count": 63,
   "metadata": {},
   "outputs": [
    {
     "data": {
      "text/html": [
       "<div>\n",
       "<style scoped>\n",
       "    .dataframe tbody tr th:only-of-type {\n",
       "        vertical-align: middle;\n",
       "    }\n",
       "\n",
       "    .dataframe tbody tr th {\n",
       "        vertical-align: top;\n",
       "    }\n",
       "\n",
       "    .dataframe thead th {\n",
       "        text-align: right;\n",
       "    }\n",
       "</style>\n",
       "<table border=\"1\" class=\"dataframe\">\n",
       "  <thead>\n",
       "    <tr style=\"text-align: right;\">\n",
       "      <th></th>\n",
       "      <th>movie_id</th>\n",
       "      <th>averagerating</th>\n",
       "      <th>numvotes</th>\n",
       "    </tr>\n",
       "  </thead>\n",
       "  <tbody>\n",
       "    <tr>\n",
       "      <th>0</th>\n",
       "      <td>tt10356526</td>\n",
       "      <td>8.3</td>\n",
       "      <td>31</td>\n",
       "    </tr>\n",
       "    <tr>\n",
       "      <th>1</th>\n",
       "      <td>tt10384606</td>\n",
       "      <td>8.9</td>\n",
       "      <td>559</td>\n",
       "    </tr>\n",
       "    <tr>\n",
       "      <th>2</th>\n",
       "      <td>tt1042974</td>\n",
       "      <td>6.4</td>\n",
       "      <td>20</td>\n",
       "    </tr>\n",
       "    <tr>\n",
       "      <th>3</th>\n",
       "      <td>tt1043726</td>\n",
       "      <td>4.2</td>\n",
       "      <td>50352</td>\n",
       "    </tr>\n",
       "    <tr>\n",
       "      <th>4</th>\n",
       "      <td>tt1060240</td>\n",
       "      <td>6.5</td>\n",
       "      <td>21</td>\n",
       "    </tr>\n",
       "  </tbody>\n",
       "</table>\n",
       "</div>"
      ],
      "text/plain": [
       "     movie_id  averagerating  numvotes\n",
       "0  tt10356526            8.3        31\n",
       "1  tt10384606            8.9       559\n",
       "2   tt1042974            6.4        20\n",
       "3   tt1043726            4.2     50352\n",
       "4   tt1060240            6.5        21"
      ]
     },
     "execution_count": 63,
     "metadata": {},
     "output_type": "execute_result"
    }
   ],
   "source": [
    "movie_ratings = pd.read_sql(\"\"\"select * from movie_ratings\"\"\", conn)\n",
    "\n",
    "movie_ratings.head()"
   ]
  },
  {
   "cell_type": "code",
   "execution_count": 64,
   "metadata": {},
   "outputs": [
    {
     "data": {
      "text/html": [
       "<div>\n",
       "<style scoped>\n",
       "    .dataframe tbody tr th:only-of-type {\n",
       "        vertical-align: middle;\n",
       "    }\n",
       "\n",
       "    .dataframe tbody tr th {\n",
       "        vertical-align: top;\n",
       "    }\n",
       "\n",
       "    .dataframe thead th {\n",
       "        text-align: right;\n",
       "    }\n",
       "</style>\n",
       "<table border=\"1\" class=\"dataframe\">\n",
       "  <thead>\n",
       "    <tr style=\"text-align: right;\">\n",
       "      <th></th>\n",
       "      <th>averagerating</th>\n",
       "      <th>numvotes</th>\n",
       "    </tr>\n",
       "  </thead>\n",
       "  <tbody>\n",
       "    <tr>\n",
       "      <th>count</th>\n",
       "      <td>73856.000000</td>\n",
       "      <td>7.385600e+04</td>\n",
       "    </tr>\n",
       "    <tr>\n",
       "      <th>mean</th>\n",
       "      <td>6.332729</td>\n",
       "      <td>3.523662e+03</td>\n",
       "    </tr>\n",
       "    <tr>\n",
       "      <th>std</th>\n",
       "      <td>1.474978</td>\n",
       "      <td>3.029402e+04</td>\n",
       "    </tr>\n",
       "    <tr>\n",
       "      <th>min</th>\n",
       "      <td>1.000000</td>\n",
       "      <td>5.000000e+00</td>\n",
       "    </tr>\n",
       "    <tr>\n",
       "      <th>25%</th>\n",
       "      <td>5.500000</td>\n",
       "      <td>1.400000e+01</td>\n",
       "    </tr>\n",
       "    <tr>\n",
       "      <th>50%</th>\n",
       "      <td>6.500000</td>\n",
       "      <td>4.900000e+01</td>\n",
       "    </tr>\n",
       "    <tr>\n",
       "      <th>75%</th>\n",
       "      <td>7.400000</td>\n",
       "      <td>2.820000e+02</td>\n",
       "    </tr>\n",
       "    <tr>\n",
       "      <th>max</th>\n",
       "      <td>10.000000</td>\n",
       "      <td>1.841066e+06</td>\n",
       "    </tr>\n",
       "  </tbody>\n",
       "</table>\n",
       "</div>"
      ],
      "text/plain": [
       "       averagerating      numvotes\n",
       "count   73856.000000  7.385600e+04\n",
       "mean        6.332729  3.523662e+03\n",
       "std         1.474978  3.029402e+04\n",
       "min         1.000000  5.000000e+00\n",
       "25%         5.500000  1.400000e+01\n",
       "50%         6.500000  4.900000e+01\n",
       "75%         7.400000  2.820000e+02\n",
       "max        10.000000  1.841066e+06"
      ]
     },
     "execution_count": 64,
     "metadata": {},
     "output_type": "execute_result"
    }
   ],
   "source": [
    "movie_ratings.describe()"
   ]
  },
  {
   "cell_type": "markdown",
   "metadata": {},
   "source": [
    "## 2. Data Transformation\n",
    "\n",
    "This stage will include Data Cleaning, Combining and Aggregating our data.\n"
   ]
  },
  {
   "cell_type": "markdown",
   "metadata": {},
   "source": [
    "### Data Cleaning\n",
    "\n",
    "Here, we will select the data that we require from these sources to complete our objectives. We will then remove unwanted data which could be in the form of:\n",
    "* Null values\n",
    "* Duplicates\n",
    "* Outliers"
   ]
  },
  {
   "cell_type": "markdown",
   "metadata": {},
   "source": [
    "We will begin by dropping columns we will not use and drop null values in columns we will need."
   ]
  },
  {
   "cell_type": "markdown",
   "metadata": {},
   "source": [
    "#### IMDB Data Cleaning"
   ]
  },
  {
   "cell_type": "code",
   "execution_count": 65,
   "metadata": {},
   "outputs": [
    {
     "name": "stdout",
     "output_type": "stream",
     "text": [
      "<class 'pandas.core.frame.DataFrame'>\n",
      "Int64Index: 140736 entries, 0 to 146143\n",
      "Data columns (total 4 columns):\n",
      " #   Column         Non-Null Count   Dtype \n",
      "---  ------         --------------   ----- \n",
      " 0   movie_id       140736 non-null  object\n",
      " 1   primary_title  140736 non-null  object\n",
      " 2   start_year     140736 non-null  int64 \n",
      " 3   genres         140736 non-null  object\n",
      "dtypes: int64(1), object(3)\n",
      "memory usage: 5.4+ MB\n"
     ]
    }
   ],
   "source": [
    "# Drop original_title, runtime_minutes from movie_basics\n",
    "\n",
    "movie_basics.drop(columns=['original_title', 'runtime_minutes'], inplace=True)\n",
    "\n",
    "# Remove rows with Null values on the genres column from movie_basics\n",
    "\n",
    "movie_basics.dropna(subset=['genres'], inplace=True)\n",
    "\n",
    "# Inspect movie basics\n",
    "\n",
    "movie_basics.info()\n"
   ]
  },
  {
   "cell_type": "code",
   "execution_count": 66,
   "metadata": {},
   "outputs": [
    {
     "data": {
      "text/html": [
       "<div>\n",
       "<style scoped>\n",
       "    .dataframe tbody tr th:only-of-type {\n",
       "        vertical-align: middle;\n",
       "    }\n",
       "\n",
       "    .dataframe tbody tr th {\n",
       "        vertical-align: top;\n",
       "    }\n",
       "\n",
       "    .dataframe thead th {\n",
       "        text-align: right;\n",
       "    }\n",
       "</style>\n",
       "<table border=\"1\" class=\"dataframe\">\n",
       "  <thead>\n",
       "    <tr style=\"text-align: right;\">\n",
       "      <th></th>\n",
       "      <th>movie_id</th>\n",
       "      <th>primary_title</th>\n",
       "      <th>start_year</th>\n",
       "      <th>genres</th>\n",
       "    </tr>\n",
       "  </thead>\n",
       "  <tbody>\n",
       "    <tr>\n",
       "      <th>0</th>\n",
       "      <td>tt0063540</td>\n",
       "      <td>Sunghursh</td>\n",
       "      <td>2013</td>\n",
       "      <td>Action,Crime,Drama</td>\n",
       "    </tr>\n",
       "    <tr>\n",
       "      <th>1</th>\n",
       "      <td>tt0066787</td>\n",
       "      <td>One Day Before the Rainy Season</td>\n",
       "      <td>2019</td>\n",
       "      <td>Biography,Drama</td>\n",
       "    </tr>\n",
       "    <tr>\n",
       "      <th>2</th>\n",
       "      <td>tt0069049</td>\n",
       "      <td>The Other Side of the Wind</td>\n",
       "      <td>2018</td>\n",
       "      <td>Drama</td>\n",
       "    </tr>\n",
       "    <tr>\n",
       "      <th>3</th>\n",
       "      <td>tt0069204</td>\n",
       "      <td>Sabse Bada Sukh</td>\n",
       "      <td>2018</td>\n",
       "      <td>Comedy,Drama</td>\n",
       "    </tr>\n",
       "    <tr>\n",
       "      <th>4</th>\n",
       "      <td>tt0100275</td>\n",
       "      <td>The Wandering Soap Opera</td>\n",
       "      <td>2017</td>\n",
       "      <td>Comedy,Drama,Fantasy</td>\n",
       "    </tr>\n",
       "  </tbody>\n",
       "</table>\n",
       "</div>"
      ],
      "text/plain": [
       "    movie_id                    primary_title  start_year  \\\n",
       "0  tt0063540                        Sunghursh        2013   \n",
       "1  tt0066787  One Day Before the Rainy Season        2019   \n",
       "2  tt0069049       The Other Side of the Wind        2018   \n",
       "3  tt0069204                  Sabse Bada Sukh        2018   \n",
       "4  tt0100275         The Wandering Soap Opera        2017   \n",
       "\n",
       "                 genres  \n",
       "0    Action,Crime,Drama  \n",
       "1       Biography,Drama  \n",
       "2                 Drama  \n",
       "3          Comedy,Drama  \n",
       "4  Comedy,Drama,Fantasy  "
      ]
     },
     "execution_count": 66,
     "metadata": {},
     "output_type": "execute_result"
    }
   ],
   "source": [
    "\n",
    "movie_basics.head()"
   ]
  },
  {
   "cell_type": "markdown",
   "metadata": {},
   "source": [
    "#### RT Data Cleaning"
   ]
  },
  {
   "cell_type": "code",
   "execution_count": 67,
   "metadata": {},
   "outputs": [
    {
     "name": "stdout",
     "output_type": "stream",
     "text": [
      "<class 'pandas.core.frame.DataFrame'>\n",
      "Int64Index: 35379 entries, 0 to 54424\n",
      "Data columns (total 3 columns):\n",
      " #   Column  Non-Null Count  Dtype \n",
      "---  ------  --------------  ----- \n",
      " 0   id      35379 non-null  int64 \n",
      " 1   review  35379 non-null  object\n",
      " 2   rating  35379 non-null  object\n",
      "dtypes: int64(1), object(2)\n",
      "memory usage: 1.1+ MB\n"
     ]
    }
   ],
   "source": [
    "#Drop unwanted columns from rt_movie_reviews\n",
    "\n",
    "rt_movie_reviews.drop(columns=['fresh', 'critic', 'top_critic', 'publisher', 'date'], inplace=True)\n",
    "\n",
    "#Drop rows with null values from review and rating columns\n",
    "\n",
    "rt_movie_reviews.dropna(subset=['review', 'rating'], inplace=True)\n",
    "\n",
    "#Inspect rt_movie_reviews\n",
    "\n",
    "rt_movie_reviews.info()"
   ]
  },
  {
   "cell_type": "code",
   "execution_count": 68,
   "metadata": {},
   "outputs": [
    {
     "data": {
      "text/html": [
       "<div>\n",
       "<style scoped>\n",
       "    .dataframe tbody tr th:only-of-type {\n",
       "        vertical-align: middle;\n",
       "    }\n",
       "\n",
       "    .dataframe tbody tr th {\n",
       "        vertical-align: top;\n",
       "    }\n",
       "\n",
       "    .dataframe thead th {\n",
       "        text-align: right;\n",
       "    }\n",
       "</style>\n",
       "<table border=\"1\" class=\"dataframe\">\n",
       "  <thead>\n",
       "    <tr style=\"text-align: right;\">\n",
       "      <th></th>\n",
       "      <th>id</th>\n",
       "      <th>review</th>\n",
       "      <th>rating</th>\n",
       "    </tr>\n",
       "  </thead>\n",
       "  <tbody>\n",
       "    <tr>\n",
       "      <th>0</th>\n",
       "      <td>3</td>\n",
       "      <td>A distinctly gallows take on contemporary fina...</td>\n",
       "      <td>3/5</td>\n",
       "    </tr>\n",
       "    <tr>\n",
       "      <th>6</th>\n",
       "      <td>3</td>\n",
       "      <td>Quickly grows repetitive and tiresome, meander...</td>\n",
       "      <td>C</td>\n",
       "    </tr>\n",
       "    <tr>\n",
       "      <th>7</th>\n",
       "      <td>3</td>\n",
       "      <td>Cronenberg is not a director to be daunted by ...</td>\n",
       "      <td>2/5</td>\n",
       "    </tr>\n",
       "    <tr>\n",
       "      <th>11</th>\n",
       "      <td>3</td>\n",
       "      <td>While not one of Cronenberg's stronger films, ...</td>\n",
       "      <td>B-</td>\n",
       "    </tr>\n",
       "    <tr>\n",
       "      <th>12</th>\n",
       "      <td>3</td>\n",
       "      <td>Robert Pattinson works mighty hard to make Cos...</td>\n",
       "      <td>2/4</td>\n",
       "    </tr>\n",
       "  </tbody>\n",
       "</table>\n",
       "</div>"
      ],
      "text/plain": [
       "    id                                             review rating\n",
       "0    3  A distinctly gallows take on contemporary fina...    3/5\n",
       "6    3  Quickly grows repetitive and tiresome, meander...      C\n",
       "7    3  Cronenberg is not a director to be daunted by ...    2/5\n",
       "11   3  While not one of Cronenberg's stronger films, ...     B-\n",
       "12   3  Robert Pattinson works mighty hard to make Cos...    2/4"
      ]
     },
     "execution_count": 68,
     "metadata": {},
     "output_type": "execute_result"
    }
   ],
   "source": [
    "# Preview rt_movie_reviews\n",
    "\n",
    "rt_movie_reviews.head()"
   ]
  },
  {
   "cell_type": "code",
   "execution_count": 69,
   "metadata": {},
   "outputs": [
    {
     "name": "stdout",
     "output_type": "stream",
     "text": [
      "<class 'pandas.core.frame.DataFrame'>\n",
      "RangeIndex: 1560 entries, 0 to 1559\n",
      "Data columns (total 3 columns):\n",
      " #   Column  Non-Null Count  Dtype \n",
      "---  ------  --------------  ----- \n",
      " 0   id      1560 non-null   int64 \n",
      " 1   rating  1557 non-null   object\n",
      " 2   genre   1552 non-null   object\n",
      "dtypes: int64(1), object(2)\n",
      "memory usage: 36.7+ KB\n"
     ]
    }
   ],
   "source": [
    "# Repeat the process for remaining data sets\n",
    "\n",
    "rt_movie_info.drop(columns=['director', 'writer', 'theater_date', 'dvd_date', 'runtime', 'box_office', 'synopsis', 'studio', 'currency'], inplace=True)\n",
    "\n",
    "# Drop rows with Null values in rating and genre\n",
    "\n",
    "rt_movie_info.dropna(subset=['rating', 'genre'])\n",
    "\n",
    "# Inspect rt_movie_info\n",
    "\n",
    "rt_movie_info.info()"
   ]
  },
  {
   "cell_type": "code",
   "execution_count": 70,
   "metadata": {},
   "outputs": [
    {
     "data": {
      "text/html": [
       "<div>\n",
       "<style scoped>\n",
       "    .dataframe tbody tr th:only-of-type {\n",
       "        vertical-align: middle;\n",
       "    }\n",
       "\n",
       "    .dataframe tbody tr th {\n",
       "        vertical-align: top;\n",
       "    }\n",
       "\n",
       "    .dataframe thead th {\n",
       "        text-align: right;\n",
       "    }\n",
       "</style>\n",
       "<table border=\"1\" class=\"dataframe\">\n",
       "  <thead>\n",
       "    <tr style=\"text-align: right;\">\n",
       "      <th></th>\n",
       "      <th>id</th>\n",
       "      <th>rating</th>\n",
       "      <th>genre</th>\n",
       "    </tr>\n",
       "  </thead>\n",
       "  <tbody>\n",
       "    <tr>\n",
       "      <th>0</th>\n",
       "      <td>1</td>\n",
       "      <td>R</td>\n",
       "      <td>Action and Adventure|Classics|Drama</td>\n",
       "    </tr>\n",
       "    <tr>\n",
       "      <th>1</th>\n",
       "      <td>3</td>\n",
       "      <td>R</td>\n",
       "      <td>Drama|Science Fiction and Fantasy</td>\n",
       "    </tr>\n",
       "    <tr>\n",
       "      <th>2</th>\n",
       "      <td>5</td>\n",
       "      <td>R</td>\n",
       "      <td>Drama|Musical and Performing Arts</td>\n",
       "    </tr>\n",
       "    <tr>\n",
       "      <th>3</th>\n",
       "      <td>6</td>\n",
       "      <td>R</td>\n",
       "      <td>Drama|Mystery and Suspense</td>\n",
       "    </tr>\n",
       "    <tr>\n",
       "      <th>4</th>\n",
       "      <td>7</td>\n",
       "      <td>NR</td>\n",
       "      <td>Drama|Romance</td>\n",
       "    </tr>\n",
       "  </tbody>\n",
       "</table>\n",
       "</div>"
      ],
      "text/plain": [
       "   id rating                                genre\n",
       "0   1      R  Action and Adventure|Classics|Drama\n",
       "1   3      R    Drama|Science Fiction and Fantasy\n",
       "2   5      R    Drama|Musical and Performing Arts\n",
       "3   6      R           Drama|Mystery and Suspense\n",
       "4   7     NR                        Drama|Romance"
      ]
     },
     "execution_count": 70,
     "metadata": {},
     "output_type": "execute_result"
    }
   ],
   "source": [
    "# Preview rt_movie_info\n",
    "\n",
    "rt_movie_info.head()"
   ]
  },
  {
   "cell_type": "markdown",
   "metadata": {},
   "source": [
    "#### TMDB Data Cleaning"
   ]
  },
  {
   "cell_type": "code",
   "execution_count": 71,
   "metadata": {},
   "outputs": [
    {
     "name": "stdout",
     "output_type": "stream",
     "text": [
      "<class 'pandas.core.frame.DataFrame'>\n",
      "Int64Index: 24688 entries, 23811 to 26516\n",
      "Data columns (total 7 columns):\n",
      " #   Column             Non-Null Count  Dtype         \n",
      "---  ------             --------------  -----         \n",
      " 0   Unnamed: 0         24688 non-null  int64         \n",
      " 1   original_language  24688 non-null  object        \n",
      " 2   popularity         24688 non-null  float64       \n",
      " 3   release_date       24688 non-null  datetime64[ns]\n",
      " 4   title              24688 non-null  object        \n",
      " 5   vote_average       24688 non-null  float64       \n",
      " 6   vote_count         24688 non-null  int64         \n",
      "dtypes: datetime64[ns](1), float64(2), int64(2), object(2)\n",
      "memory usage: 1.5+ MB\n"
     ]
    }
   ],
   "source": [
    "# Drop columns that we will not be using for analysis.\n",
    "\n",
    "tmdb_movies.drop(columns=['original_title', 'genre_ids', 'id'], inplace=True)\n",
    "\n",
    "# Convert the release_date column to datetime\n",
    "\n",
    "tmdb_movies['release_date'] = pd.to_datetime(tmdb_movies['release_date'])\n",
    "\n",
    "# Sort values in descending order according to popularity\n",
    "\n",
    "tmdb_movies.sort_values('popularity', ascending=False, inplace=True)\n",
    "\n",
    "# Drop duplicates\n",
    "\n",
    "tmdb_movies.drop_duplicates(subset = ['title'], inplace=True)\n",
    "\n",
    "# Inspect tmdb_movies\n",
    "\n",
    "tmdb_movies.info()"
   ]
  },
  {
   "cell_type": "code",
   "execution_count": 72,
   "metadata": {},
   "outputs": [
    {
     "data": {
      "text/html": [
       "<div>\n",
       "<style scoped>\n",
       "    .dataframe tbody tr th:only-of-type {\n",
       "        vertical-align: middle;\n",
       "    }\n",
       "\n",
       "    .dataframe tbody tr th {\n",
       "        vertical-align: top;\n",
       "    }\n",
       "\n",
       "    .dataframe thead th {\n",
       "        text-align: right;\n",
       "    }\n",
       "</style>\n",
       "<table border=\"1\" class=\"dataframe\">\n",
       "  <thead>\n",
       "    <tr style=\"text-align: right;\">\n",
       "      <th></th>\n",
       "      <th>Unnamed: 0</th>\n",
       "      <th>original_language</th>\n",
       "      <th>popularity</th>\n",
       "      <th>release_date</th>\n",
       "      <th>title</th>\n",
       "      <th>vote_average</th>\n",
       "      <th>vote_count</th>\n",
       "    </tr>\n",
       "  </thead>\n",
       "  <tbody>\n",
       "    <tr>\n",
       "      <th>23811</th>\n",
       "      <td>23811</td>\n",
       "      <td>en</td>\n",
       "      <td>80.773</td>\n",
       "      <td>2018-04-27</td>\n",
       "      <td>Avengers: Infinity War</td>\n",
       "      <td>8.3</td>\n",
       "      <td>13948</td>\n",
       "    </tr>\n",
       "    <tr>\n",
       "      <th>11019</th>\n",
       "      <td>11019</td>\n",
       "      <td>en</td>\n",
       "      <td>78.123</td>\n",
       "      <td>2014-10-24</td>\n",
       "      <td>John Wick</td>\n",
       "      <td>7.2</td>\n",
       "      <td>10081</td>\n",
       "    </tr>\n",
       "    <tr>\n",
       "      <th>23812</th>\n",
       "      <td>23812</td>\n",
       "      <td>en</td>\n",
       "      <td>60.534</td>\n",
       "      <td>2018-12-14</td>\n",
       "      <td>Spider-Man: Into the Spider-Verse</td>\n",
       "      <td>8.4</td>\n",
       "      <td>4048</td>\n",
       "    </tr>\n",
       "    <tr>\n",
       "      <th>11020</th>\n",
       "      <td>11020</td>\n",
       "      <td>en</td>\n",
       "      <td>53.783</td>\n",
       "      <td>2014-12-17</td>\n",
       "      <td>The Hobbit: The Battle of the Five Armies</td>\n",
       "      <td>7.3</td>\n",
       "      <td>8392</td>\n",
       "    </tr>\n",
       "    <tr>\n",
       "      <th>5179</th>\n",
       "      <td>5179</td>\n",
       "      <td>en</td>\n",
       "      <td>50.289</td>\n",
       "      <td>2012-05-04</td>\n",
       "      <td>The Avengers</td>\n",
       "      <td>7.6</td>\n",
       "      <td>19673</td>\n",
       "    </tr>\n",
       "    <tr>\n",
       "      <th>11021</th>\n",
       "      <td>11021</td>\n",
       "      <td>en</td>\n",
       "      <td>49.606</td>\n",
       "      <td>2014-08-01</td>\n",
       "      <td>Guardians of the Galaxy</td>\n",
       "      <td>7.9</td>\n",
       "      <td>17958</td>\n",
       "    </tr>\n",
       "    <tr>\n",
       "      <th>20617</th>\n",
       "      <td>20617</td>\n",
       "      <td>en</td>\n",
       "      <td>48.571</td>\n",
       "      <td>2017-10-06</td>\n",
       "      <td>Blade Runner 2049</td>\n",
       "      <td>7.4</td>\n",
       "      <td>6679</td>\n",
       "    </tr>\n",
       "    <tr>\n",
       "      <th>23814</th>\n",
       "      <td>23814</td>\n",
       "      <td>en</td>\n",
       "      <td>48.508</td>\n",
       "      <td>2018-11-16</td>\n",
       "      <td>Fantastic Beasts: The Crimes of Grindelwald</td>\n",
       "      <td>6.9</td>\n",
       "      <td>4870</td>\n",
       "    </tr>\n",
       "    <tr>\n",
       "      <th>23815</th>\n",
       "      <td>23815</td>\n",
       "      <td>en</td>\n",
       "      <td>48.057</td>\n",
       "      <td>2018-11-21</td>\n",
       "      <td>Ralph Breaks the Internet</td>\n",
       "      <td>7.2</td>\n",
       "      <td>2626</td>\n",
       "    </tr>\n",
       "    <tr>\n",
       "      <th>20618</th>\n",
       "      <td>20618</td>\n",
       "      <td>en</td>\n",
       "      <td>46.775</td>\n",
       "      <td>2017-07-07</td>\n",
       "      <td>Spider-Man: Homecoming</td>\n",
       "      <td>7.4</td>\n",
       "      <td>11585</td>\n",
       "    </tr>\n",
       "  </tbody>\n",
       "</table>\n",
       "</div>"
      ],
      "text/plain": [
       "       Unnamed: 0 original_language  popularity release_date  \\\n",
       "23811       23811                en      80.773   2018-04-27   \n",
       "11019       11019                en      78.123   2014-10-24   \n",
       "23812       23812                en      60.534   2018-12-14   \n",
       "11020       11020                en      53.783   2014-12-17   \n",
       "5179         5179                en      50.289   2012-05-04   \n",
       "11021       11021                en      49.606   2014-08-01   \n",
       "20617       20617                en      48.571   2017-10-06   \n",
       "23814       23814                en      48.508   2018-11-16   \n",
       "23815       23815                en      48.057   2018-11-21   \n",
       "20618       20618                en      46.775   2017-07-07   \n",
       "\n",
       "                                             title  vote_average  vote_count  \n",
       "23811                       Avengers: Infinity War           8.3       13948  \n",
       "11019                                    John Wick           7.2       10081  \n",
       "23812            Spider-Man: Into the Spider-Verse           8.4        4048  \n",
       "11020    The Hobbit: The Battle of the Five Armies           7.3        8392  \n",
       "5179                                  The Avengers           7.6       19673  \n",
       "11021                      Guardians of the Galaxy           7.9       17958  \n",
       "20617                            Blade Runner 2049           7.4        6679  \n",
       "23814  Fantastic Beasts: The Crimes of Grindelwald           6.9        4870  \n",
       "23815                    Ralph Breaks the Internet           7.2        2626  \n",
       "20618                       Spider-Man: Homecoming           7.4       11585  "
      ]
     },
     "execution_count": 72,
     "metadata": {},
     "output_type": "execute_result"
    }
   ],
   "source": [
    "# Preview tmdb_movies\n",
    "\n",
    "tmdb_movies.head(10)"
   ]
  },
  {
   "cell_type": "markdown",
   "metadata": {},
   "source": [
    "#### Box Office Movies Data Cleaning"
   ]
  },
  {
   "cell_type": "code",
   "execution_count": 73,
   "metadata": {},
   "outputs": [
    {
     "name": "stdout",
     "output_type": "stream",
     "text": [
      "<class 'pandas.core.frame.DataFrame'>\n",
      "RangeIndex: 3387 entries, 0 to 3386\n",
      "Data columns (total 5 columns):\n",
      " #   Column          Non-Null Count  Dtype  \n",
      "---  ------          --------------  -----  \n",
      " 0   title           3387 non-null   object \n",
      " 1   studio          3382 non-null   object \n",
      " 2   domestic_gross  3359 non-null   float64\n",
      " 3   foreign_gross   2037 non-null   float64\n",
      " 4   year            3387 non-null   int64  \n",
      "dtypes: float64(2), int64(1), object(2)\n",
      "memory usage: 132.4+ KB\n"
     ]
    }
   ],
   "source": [
    "# Convert the foreign_gross column to float\n",
    "\n",
    "bom_movies['foreign_gross'] = bom_movies['foreign_gross'].str.replace(r'\\D', '').astype(float)\n",
    "\n",
    "# Inspect bom_movies\n",
    "\n",
    "bom_movies.info()\n"
   ]
  },
  {
   "cell_type": "markdown",
   "metadata": {},
   "source": [
    "Create a column 'revenue' in Box Office Movies that sums domestic & foreign gross."
   ]
  },
  {
   "cell_type": "code",
   "execution_count": 74,
   "metadata": {},
   "outputs": [
    {
     "data": {
      "text/html": [
       "<div>\n",
       "<style scoped>\n",
       "    .dataframe tbody tr th:only-of-type {\n",
       "        vertical-align: middle;\n",
       "    }\n",
       "\n",
       "    .dataframe tbody tr th {\n",
       "        vertical-align: top;\n",
       "    }\n",
       "\n",
       "    .dataframe thead th {\n",
       "        text-align: right;\n",
       "    }\n",
       "</style>\n",
       "<table border=\"1\" class=\"dataframe\">\n",
       "  <thead>\n",
       "    <tr style=\"text-align: right;\">\n",
       "      <th></th>\n",
       "      <th>title</th>\n",
       "      <th>studio</th>\n",
       "      <th>domestic_gross</th>\n",
       "      <th>foreign_gross</th>\n",
       "      <th>year</th>\n",
       "      <th>revenue</th>\n",
       "    </tr>\n",
       "  </thead>\n",
       "  <tbody>\n",
       "    <tr>\n",
       "      <th>0</th>\n",
       "      <td>Toy Story 3</td>\n",
       "      <td>BV</td>\n",
       "      <td>415000000.0</td>\n",
       "      <td>652000000.0</td>\n",
       "      <td>2010</td>\n",
       "      <td>1.067000e+09</td>\n",
       "    </tr>\n",
       "    <tr>\n",
       "      <th>1</th>\n",
       "      <td>Alice in Wonderland (2010)</td>\n",
       "      <td>BV</td>\n",
       "      <td>334200000.0</td>\n",
       "      <td>691300000.0</td>\n",
       "      <td>2010</td>\n",
       "      <td>1.025500e+09</td>\n",
       "    </tr>\n",
       "    <tr>\n",
       "      <th>2</th>\n",
       "      <td>Harry Potter and the Deathly Hallows Part 1</td>\n",
       "      <td>WB</td>\n",
       "      <td>296000000.0</td>\n",
       "      <td>664300000.0</td>\n",
       "      <td>2010</td>\n",
       "      <td>9.603000e+08</td>\n",
       "    </tr>\n",
       "    <tr>\n",
       "      <th>3</th>\n",
       "      <td>Inception</td>\n",
       "      <td>WB</td>\n",
       "      <td>292600000.0</td>\n",
       "      <td>535700000.0</td>\n",
       "      <td>2010</td>\n",
       "      <td>8.283000e+08</td>\n",
       "    </tr>\n",
       "    <tr>\n",
       "      <th>4</th>\n",
       "      <td>Shrek Forever After</td>\n",
       "      <td>P/DW</td>\n",
       "      <td>238700000.0</td>\n",
       "      <td>513900000.0</td>\n",
       "      <td>2010</td>\n",
       "      <td>7.526000e+08</td>\n",
       "    </tr>\n",
       "  </tbody>\n",
       "</table>\n",
       "</div>"
      ],
      "text/plain": [
       "                                         title studio  domestic_gross  \\\n",
       "0                                  Toy Story 3     BV     415000000.0   \n",
       "1                   Alice in Wonderland (2010)     BV     334200000.0   \n",
       "2  Harry Potter and the Deathly Hallows Part 1     WB     296000000.0   \n",
       "3                                    Inception     WB     292600000.0   \n",
       "4                          Shrek Forever After   P/DW     238700000.0   \n",
       "\n",
       "   foreign_gross  year       revenue  \n",
       "0    652000000.0  2010  1.067000e+09  \n",
       "1    691300000.0  2010  1.025500e+09  \n",
       "2    664300000.0  2010  9.603000e+08  \n",
       "3    535700000.0  2010  8.283000e+08  \n",
       "4    513900000.0  2010  7.526000e+08  "
      ]
     },
     "execution_count": 74,
     "metadata": {},
     "output_type": "execute_result"
    }
   ],
   "source": [
    "# Create revenue column\n",
    "\n",
    "bom_movies['revenue'] = bom_movies['domestic_gross'] + bom_movies['foreign_gross']\n",
    "\n",
    "# Preview bom_movies\n",
    "\n",
    "bom_movies.head()\n"
   ]
  },
  {
   "cell_type": "markdown",
   "metadata": {},
   "source": [
    "#### The Numbers Movie Budgets Data Cleaning"
   ]
  },
  {
   "cell_type": "code",
   "execution_count": 75,
   "metadata": {},
   "outputs": [
    {
     "name": "stdout",
     "output_type": "stream",
     "text": [
      "<class 'pandas.core.frame.DataFrame'>\n",
      "Int64Index: 5782 entries, 0 to 5781\n",
      "Data columns (total 6 columns):\n",
      " #   Column             Non-Null Count  Dtype  \n",
      "---  ------             --------------  -----  \n",
      " 0   id                 5782 non-null   int64  \n",
      " 1   release_date       5782 non-null   object \n",
      " 2   movie              5782 non-null   object \n",
      " 3   production_budget  5782 non-null   float64\n",
      " 4   domestic_gross     5782 non-null   float64\n",
      " 5   worldwide_gross    5782 non-null   float64\n",
      "dtypes: float64(3), int64(1), object(2)\n",
      "memory usage: 316.2+ KB\n"
     ]
    }
   ],
   "source": [
    "# Remove unwanted characters from columns and convert to float\n",
    "\n",
    "movie_budgets['production_budget'] = movie_budgets['production_budget'].str.replace(r'\\D', '').astype(float)\n",
    "\n",
    "movie_budgets['domestic_gross'] = movie_budgets['domestic_gross'].str.replace(r'\\D', '').astype(float)\n",
    "\n",
    "movie_budgets['worldwide_gross'] = movie_budgets['worldwide_gross'].str.replace(r'\\D', '').astype(float)\n",
    "\n",
    "# Sort values in descending order according to production budget\n",
    "\n",
    "movie_budgets.sort_values('production_budget', ascending=False, inplace=True)\n",
    "\n",
    "# Inspect movie_budgets\n",
    "\n",
    "movie_budgets.info()\n"
   ]
  },
  {
   "cell_type": "code",
   "execution_count": 76,
   "metadata": {},
   "outputs": [
    {
     "data": {
      "text/html": [
       "<div>\n",
       "<style scoped>\n",
       "    .dataframe tbody tr th:only-of-type {\n",
       "        vertical-align: middle;\n",
       "    }\n",
       "\n",
       "    .dataframe tbody tr th {\n",
       "        vertical-align: top;\n",
       "    }\n",
       "\n",
       "    .dataframe thead th {\n",
       "        text-align: right;\n",
       "    }\n",
       "</style>\n",
       "<table border=\"1\" class=\"dataframe\">\n",
       "  <thead>\n",
       "    <tr style=\"text-align: right;\">\n",
       "      <th></th>\n",
       "      <th>id</th>\n",
       "      <th>release_date</th>\n",
       "      <th>movie</th>\n",
       "      <th>production_budget</th>\n",
       "      <th>domestic_gross</th>\n",
       "      <th>worldwide_gross</th>\n",
       "    </tr>\n",
       "  </thead>\n",
       "  <tbody>\n",
       "    <tr>\n",
       "      <th>0</th>\n",
       "      <td>1</td>\n",
       "      <td>Dec 18, 2009</td>\n",
       "      <td>Avatar</td>\n",
       "      <td>425000000.0</td>\n",
       "      <td>760507625.0</td>\n",
       "      <td>2.776345e+09</td>\n",
       "    </tr>\n",
       "    <tr>\n",
       "      <th>1</th>\n",
       "      <td>2</td>\n",
       "      <td>May 20, 2011</td>\n",
       "      <td>Pirates of the Caribbean: On Stranger Tides</td>\n",
       "      <td>410600000.0</td>\n",
       "      <td>241063875.0</td>\n",
       "      <td>1.045664e+09</td>\n",
       "    </tr>\n",
       "    <tr>\n",
       "      <th>2</th>\n",
       "      <td>3</td>\n",
       "      <td>Jun 7, 2019</td>\n",
       "      <td>Dark Phoenix</td>\n",
       "      <td>350000000.0</td>\n",
       "      <td>42762350.0</td>\n",
       "      <td>1.497624e+08</td>\n",
       "    </tr>\n",
       "    <tr>\n",
       "      <th>3</th>\n",
       "      <td>4</td>\n",
       "      <td>May 1, 2015</td>\n",
       "      <td>Avengers: Age of Ultron</td>\n",
       "      <td>330600000.0</td>\n",
       "      <td>459005868.0</td>\n",
       "      <td>1.403014e+09</td>\n",
       "    </tr>\n",
       "    <tr>\n",
       "      <th>4</th>\n",
       "      <td>5</td>\n",
       "      <td>Dec 15, 2017</td>\n",
       "      <td>Star Wars Ep. VIII: The Last Jedi</td>\n",
       "      <td>317000000.0</td>\n",
       "      <td>620181382.0</td>\n",
       "      <td>1.316722e+09</td>\n",
       "    </tr>\n",
       "  </tbody>\n",
       "</table>\n",
       "</div>"
      ],
      "text/plain": [
       "   id  release_date                                        movie  \\\n",
       "0   1  Dec 18, 2009                                       Avatar   \n",
       "1   2  May 20, 2011  Pirates of the Caribbean: On Stranger Tides   \n",
       "2   3   Jun 7, 2019                                 Dark Phoenix   \n",
       "3   4   May 1, 2015                      Avengers: Age of Ultron   \n",
       "4   5  Dec 15, 2017            Star Wars Ep. VIII: The Last Jedi   \n",
       "\n",
       "   production_budget  domestic_gross  worldwide_gross  \n",
       "0        425000000.0     760507625.0     2.776345e+09  \n",
       "1        410600000.0     241063875.0     1.045664e+09  \n",
       "2        350000000.0      42762350.0     1.497624e+08  \n",
       "3        330600000.0     459005868.0     1.403014e+09  \n",
       "4        317000000.0     620181382.0     1.316722e+09  "
      ]
     },
     "execution_count": 76,
     "metadata": {},
     "output_type": "execute_result"
    }
   ],
   "source": [
    "# Preview movie_budgets\n",
    "\n",
    "movie_budgets.head()"
   ]
  },
  {
   "cell_type": "markdown",
   "metadata": {},
   "source": [
    "### Data Merging & Aggregation\n",
    "\n",
    "The cleaned data can now be combined, grouped and merged as required."
   ]
  },
  {
   "cell_type": "markdown",
   "metadata": {},
   "source": [
    "#### IMDB Data Merging\n",
    "\n",
    "Here we set a common index for data extracted from IMDB and joined the data."
   ]
  },
  {
   "cell_type": "code",
   "execution_count": 77,
   "metadata": {},
   "outputs": [
    {
     "data": {
      "text/html": [
       "<div>\n",
       "<style scoped>\n",
       "    .dataframe tbody tr th:only-of-type {\n",
       "        vertical-align: middle;\n",
       "    }\n",
       "\n",
       "    .dataframe tbody tr th {\n",
       "        vertical-align: top;\n",
       "    }\n",
       "\n",
       "    .dataframe thead th {\n",
       "        text-align: right;\n",
       "    }\n",
       "</style>\n",
       "<table border=\"1\" class=\"dataframe\">\n",
       "  <thead>\n",
       "    <tr style=\"text-align: right;\">\n",
       "      <th></th>\n",
       "      <th>primary_title</th>\n",
       "      <th>start_year</th>\n",
       "      <th>genres</th>\n",
       "    </tr>\n",
       "    <tr>\n",
       "      <th>movie_id</th>\n",
       "      <th></th>\n",
       "      <th></th>\n",
       "      <th></th>\n",
       "    </tr>\n",
       "  </thead>\n",
       "  <tbody>\n",
       "    <tr>\n",
       "      <th>tt0063540</th>\n",
       "      <td>Sunghursh</td>\n",
       "      <td>2013</td>\n",
       "      <td>Action,Crime,Drama</td>\n",
       "    </tr>\n",
       "    <tr>\n",
       "      <th>tt0066787</th>\n",
       "      <td>One Day Before the Rainy Season</td>\n",
       "      <td>2019</td>\n",
       "      <td>Biography,Drama</td>\n",
       "    </tr>\n",
       "    <tr>\n",
       "      <th>tt0069049</th>\n",
       "      <td>The Other Side of the Wind</td>\n",
       "      <td>2018</td>\n",
       "      <td>Drama</td>\n",
       "    </tr>\n",
       "    <tr>\n",
       "      <th>tt0069204</th>\n",
       "      <td>Sabse Bada Sukh</td>\n",
       "      <td>2018</td>\n",
       "      <td>Comedy,Drama</td>\n",
       "    </tr>\n",
       "    <tr>\n",
       "      <th>tt0100275</th>\n",
       "      <td>The Wandering Soap Opera</td>\n",
       "      <td>2017</td>\n",
       "      <td>Comedy,Drama,Fantasy</td>\n",
       "    </tr>\n",
       "  </tbody>\n",
       "</table>\n",
       "</div>"
      ],
      "text/plain": [
       "                             primary_title  start_year                genres\n",
       "movie_id                                                                    \n",
       "tt0063540                        Sunghursh        2013    Action,Crime,Drama\n",
       "tt0066787  One Day Before the Rainy Season        2019       Biography,Drama\n",
       "tt0069049       The Other Side of the Wind        2018                 Drama\n",
       "tt0069204                  Sabse Bada Sukh        2018          Comedy,Drama\n",
       "tt0100275         The Wandering Soap Opera        2017  Comedy,Drama,Fantasy"
      ]
     },
     "execution_count": 77,
     "metadata": {},
     "output_type": "execute_result"
    }
   ],
   "source": [
    "# Set Index in movie_basics to movie_id\n",
    "\n",
    "movie_basics.set_index('movie_id', inplace=True)\n",
    "\n",
    "movie_basics.head()"
   ]
  },
  {
   "cell_type": "code",
   "execution_count": 78,
   "metadata": {},
   "outputs": [
    {
     "data": {
      "text/html": [
       "<div>\n",
       "<style scoped>\n",
       "    .dataframe tbody tr th:only-of-type {\n",
       "        vertical-align: middle;\n",
       "    }\n",
       "\n",
       "    .dataframe tbody tr th {\n",
       "        vertical-align: top;\n",
       "    }\n",
       "\n",
       "    .dataframe thead th {\n",
       "        text-align: right;\n",
       "    }\n",
       "</style>\n",
       "<table border=\"1\" class=\"dataframe\">\n",
       "  <thead>\n",
       "    <tr style=\"text-align: right;\">\n",
       "      <th></th>\n",
       "      <th>averagerating</th>\n",
       "      <th>numvotes</th>\n",
       "    </tr>\n",
       "    <tr>\n",
       "      <th>movie_id</th>\n",
       "      <th></th>\n",
       "      <th></th>\n",
       "    </tr>\n",
       "  </thead>\n",
       "  <tbody>\n",
       "    <tr>\n",
       "      <th>tt10356526</th>\n",
       "      <td>8.3</td>\n",
       "      <td>31</td>\n",
       "    </tr>\n",
       "    <tr>\n",
       "      <th>tt10384606</th>\n",
       "      <td>8.9</td>\n",
       "      <td>559</td>\n",
       "    </tr>\n",
       "    <tr>\n",
       "      <th>tt1042974</th>\n",
       "      <td>6.4</td>\n",
       "      <td>20</td>\n",
       "    </tr>\n",
       "    <tr>\n",
       "      <th>tt1043726</th>\n",
       "      <td>4.2</td>\n",
       "      <td>50352</td>\n",
       "    </tr>\n",
       "    <tr>\n",
       "      <th>tt1060240</th>\n",
       "      <td>6.5</td>\n",
       "      <td>21</td>\n",
       "    </tr>\n",
       "  </tbody>\n",
       "</table>\n",
       "</div>"
      ],
      "text/plain": [
       "            averagerating  numvotes\n",
       "movie_id                           \n",
       "tt10356526            8.3        31\n",
       "tt10384606            8.9       559\n",
       "tt1042974             6.4        20\n",
       "tt1043726             4.2     50352\n",
       "tt1060240             6.5        21"
      ]
     },
     "execution_count": 78,
     "metadata": {},
     "output_type": "execute_result"
    }
   ],
   "source": [
    "# Set Index in movie_ratings to movie_id\n",
    "\n",
    "movie_ratings.set_index('movie_id', inplace=True)\n",
    "\n",
    "movie_ratings.head()"
   ]
  },
  {
   "cell_type": "code",
   "execution_count": 79,
   "metadata": {},
   "outputs": [
    {
     "name": "stdout",
     "output_type": "stream",
     "text": [
      "<class 'pandas.core.frame.DataFrame'>\n",
      "Index: 73052 entries, tt0063540 to tt9916160\n",
      "Data columns (total 5 columns):\n",
      " #   Column         Non-Null Count  Dtype  \n",
      "---  ------         --------------  -----  \n",
      " 0   primary_title  73052 non-null  object \n",
      " 1   start_year     73052 non-null  float64\n",
      " 2   genres         73052 non-null  object \n",
      " 3   averagerating  73052 non-null  float64\n",
      " 4   numvotes       73052 non-null  float64\n",
      "dtypes: float64(3), object(2)\n",
      "memory usage: 3.3+ MB\n"
     ]
    }
   ],
   "source": [
    "# Join movie_basics and movie_ratings using an outer join. Clean rows with null values.\n",
    "\n",
    "imdb_joined = movie_basics.join(movie_ratings, how='outer')\n",
    "\n",
    "imdb_joined.dropna(inplace=True)\n",
    "\n",
    "# Inspect imdb_joined\n",
    "\n",
    "imdb_joined.info()\n"
   ]
  },
  {
   "cell_type": "code",
   "execution_count": 80,
   "metadata": {},
   "outputs": [
    {
     "data": {
      "text/html": [
       "<div>\n",
       "<style scoped>\n",
       "    .dataframe tbody tr th:only-of-type {\n",
       "        vertical-align: middle;\n",
       "    }\n",
       "\n",
       "    .dataframe tbody tr th {\n",
       "        vertical-align: top;\n",
       "    }\n",
       "\n",
       "    .dataframe thead th {\n",
       "        text-align: right;\n",
       "    }\n",
       "</style>\n",
       "<table border=\"1\" class=\"dataframe\">\n",
       "  <thead>\n",
       "    <tr style=\"text-align: right;\">\n",
       "      <th></th>\n",
       "      <th>primary_title</th>\n",
       "      <th>start_year</th>\n",
       "      <th>genres</th>\n",
       "      <th>averagerating</th>\n",
       "      <th>numvotes</th>\n",
       "    </tr>\n",
       "    <tr>\n",
       "      <th>movie_id</th>\n",
       "      <th></th>\n",
       "      <th></th>\n",
       "      <th></th>\n",
       "      <th></th>\n",
       "      <th></th>\n",
       "    </tr>\n",
       "  </thead>\n",
       "  <tbody>\n",
       "    <tr>\n",
       "      <th>tt0063540</th>\n",
       "      <td>Sunghursh</td>\n",
       "      <td>2013.0</td>\n",
       "      <td>Action,Crime,Drama</td>\n",
       "      <td>7.0</td>\n",
       "      <td>77.0</td>\n",
       "    </tr>\n",
       "    <tr>\n",
       "      <th>tt0066787</th>\n",
       "      <td>One Day Before the Rainy Season</td>\n",
       "      <td>2019.0</td>\n",
       "      <td>Biography,Drama</td>\n",
       "      <td>7.2</td>\n",
       "      <td>43.0</td>\n",
       "    </tr>\n",
       "    <tr>\n",
       "      <th>tt0069049</th>\n",
       "      <td>The Other Side of the Wind</td>\n",
       "      <td>2018.0</td>\n",
       "      <td>Drama</td>\n",
       "      <td>6.9</td>\n",
       "      <td>4517.0</td>\n",
       "    </tr>\n",
       "    <tr>\n",
       "      <th>tt0069204</th>\n",
       "      <td>Sabse Bada Sukh</td>\n",
       "      <td>2018.0</td>\n",
       "      <td>Comedy,Drama</td>\n",
       "      <td>6.1</td>\n",
       "      <td>13.0</td>\n",
       "    </tr>\n",
       "    <tr>\n",
       "      <th>tt0100275</th>\n",
       "      <td>The Wandering Soap Opera</td>\n",
       "      <td>2017.0</td>\n",
       "      <td>Comedy,Drama,Fantasy</td>\n",
       "      <td>6.5</td>\n",
       "      <td>119.0</td>\n",
       "    </tr>\n",
       "  </tbody>\n",
       "</table>\n",
       "</div>"
      ],
      "text/plain": [
       "                             primary_title  start_year                genres  \\\n",
       "movie_id                                                                       \n",
       "tt0063540                        Sunghursh      2013.0    Action,Crime,Drama   \n",
       "tt0066787  One Day Before the Rainy Season      2019.0       Biography,Drama   \n",
       "tt0069049       The Other Side of the Wind      2018.0                 Drama   \n",
       "tt0069204                  Sabse Bada Sukh      2018.0          Comedy,Drama   \n",
       "tt0100275         The Wandering Soap Opera      2017.0  Comedy,Drama,Fantasy   \n",
       "\n",
       "           averagerating  numvotes  \n",
       "movie_id                            \n",
       "tt0063540            7.0      77.0  \n",
       "tt0066787            7.2      43.0  \n",
       "tt0069049            6.9    4517.0  \n",
       "tt0069204            6.1      13.0  \n",
       "tt0100275            6.5     119.0  "
      ]
     },
     "execution_count": 80,
     "metadata": {},
     "output_type": "execute_result"
    }
   ],
   "source": [
    "# Preview imdb_joined\n",
    "\n",
    "imdb_joined.head()"
   ]
  },
  {
   "cell_type": "markdown",
   "metadata": {},
   "source": [
    "#### Group the IMDB data"
   ]
  },
  {
   "cell_type": "code",
   "execution_count": 81,
   "metadata": {},
   "outputs": [
    {
     "data": {
      "text/html": [
       "<div>\n",
       "<style scoped>\n",
       "    .dataframe tbody tr th:only-of-type {\n",
       "        vertical-align: middle;\n",
       "    }\n",
       "\n",
       "    .dataframe tbody tr th {\n",
       "        vertical-align: top;\n",
       "    }\n",
       "\n",
       "    .dataframe thead th {\n",
       "        text-align: right;\n",
       "    }\n",
       "</style>\n",
       "<table border=\"1\" class=\"dataframe\">\n",
       "  <thead>\n",
       "    <tr style=\"text-align: right;\">\n",
       "      <th></th>\n",
       "      <th>averagerating</th>\n",
       "    </tr>\n",
       "    <tr>\n",
       "      <th>genres</th>\n",
       "      <th></th>\n",
       "    </tr>\n",
       "  </thead>\n",
       "  <tbody>\n",
       "    <tr>\n",
       "      <th>Comedy,Documentary,Fantasy</th>\n",
       "      <td>9.4</td>\n",
       "    </tr>\n",
       "    <tr>\n",
       "      <th>Documentary,Family,Musical</th>\n",
       "      <td>9.3</td>\n",
       "    </tr>\n",
       "    <tr>\n",
       "      <th>History,Sport</th>\n",
       "      <td>9.2</td>\n",
       "    </tr>\n",
       "    <tr>\n",
       "      <th>Music,Mystery</th>\n",
       "      <td>9.0</td>\n",
       "    </tr>\n",
       "    <tr>\n",
       "      <th>Drama,Fantasy,War</th>\n",
       "      <td>8.8</td>\n",
       "    </tr>\n",
       "  </tbody>\n",
       "</table>\n",
       "</div>"
      ],
      "text/plain": [
       "                            averagerating\n",
       "genres                                   \n",
       "Comedy,Documentary,Fantasy            9.4\n",
       "Documentary,Family,Musical            9.3\n",
       "History,Sport                         9.2\n",
       "Music,Mystery                         9.0\n",
       "Drama,Fantasy,War                     8.8"
      ]
     },
     "execution_count": 81,
     "metadata": {},
     "output_type": "execute_result"
    }
   ],
   "source": [
    "# Required columns are genre and average rating\n",
    "\n",
    "imdb_rating = imdb_joined[['genres','averagerating']]\n",
    "\n",
    "# Group by genre and use the mean aggregate function\n",
    "\n",
    "imdb_rating = imdb_rating.groupby('genres').mean()\n",
    "\n",
    "# Sort values in descending order according to average rating\n",
    "\n",
    "imdb_rating.sort_values('averagerating', ascending=False, inplace=True)\n",
    "\n",
    "# Drop duplicates\n",
    "\n",
    "imdb_rating.drop_duplicates(inplace=True)\n",
    "\n",
    "# Preview the first 10 values\n",
    "\n",
    "imdb_rating.head()"
   ]
  },
  {
   "cell_type": "markdown",
   "metadata": {},
   "source": [
    "#### Group the Box Office Movies data"
   ]
  },
  {
   "cell_type": "code",
   "execution_count": 82,
   "metadata": {},
   "outputs": [
    {
     "data": {
      "text/html": [
       "<div>\n",
       "<style scoped>\n",
       "    .dataframe tbody tr th:only-of-type {\n",
       "        vertical-align: middle;\n",
       "    }\n",
       "\n",
       "    .dataframe tbody tr th {\n",
       "        vertical-align: top;\n",
       "    }\n",
       "\n",
       "    .dataframe thead th {\n",
       "        text-align: right;\n",
       "    }\n",
       "</style>\n",
       "<table border=\"1\" class=\"dataframe\">\n",
       "  <thead>\n",
       "    <tr style=\"text-align: right;\">\n",
       "      <th></th>\n",
       "      <th>revenue</th>\n",
       "    </tr>\n",
       "    <tr>\n",
       "      <th>studio</th>\n",
       "      <th></th>\n",
       "    </tr>\n",
       "  </thead>\n",
       "  <tbody>\n",
       "    <tr>\n",
       "      <th>HC</th>\n",
       "      <td>8.703000e+08</td>\n",
       "    </tr>\n",
       "    <tr>\n",
       "      <th>P/DW</th>\n",
       "      <td>5.076500e+08</td>\n",
       "    </tr>\n",
       "    <tr>\n",
       "      <th>BV</th>\n",
       "      <td>4.249078e+08</td>\n",
       "    </tr>\n",
       "    <tr>\n",
       "      <th>GrtIndia</th>\n",
       "      <td>2.542000e+08</td>\n",
       "    </tr>\n",
       "    <tr>\n",
       "      <th>WB</th>\n",
       "      <td>2.368577e+08</td>\n",
       "    </tr>\n",
       "    <tr>\n",
       "      <th>WB (NL)</th>\n",
       "      <td>2.344114e+08</td>\n",
       "    </tr>\n",
       "    <tr>\n",
       "      <th>Fox</th>\n",
       "      <td>2.311968e+08</td>\n",
       "    </tr>\n",
       "    <tr>\n",
       "      <th>Sony</th>\n",
       "      <td>2.133782e+08</td>\n",
       "    </tr>\n",
       "    <tr>\n",
       "      <th>Par.</th>\n",
       "      <td>2.068532e+08</td>\n",
       "    </tr>\n",
       "    <tr>\n",
       "      <th>Uni.</th>\n",
       "      <td>2.065753e+08</td>\n",
       "    </tr>\n",
       "  </tbody>\n",
       "</table>\n",
       "</div>"
      ],
      "text/plain": [
       "               revenue\n",
       "studio                \n",
       "HC        8.703000e+08\n",
       "P/DW      5.076500e+08\n",
       "BV        4.249078e+08\n",
       "GrtIndia  2.542000e+08\n",
       "WB        2.368577e+08\n",
       "WB (NL)   2.344114e+08\n",
       "Fox       2.311968e+08\n",
       "Sony      2.133782e+08\n",
       "Par.      2.068532e+08\n",
       "Uni.      2.065753e+08"
      ]
     },
     "execution_count": 82,
     "metadata": {},
     "output_type": "execute_result"
    }
   ],
   "source": [
    "# Required columns are studio and revenue\n",
    "\n",
    "bom_studio_revenue = bom_movies[['studio','revenue']]\n",
    "\n",
    "# Group by Studio and use the mean aggregate function\n",
    "\n",
    "bom_studio_revenue = bom_studio_revenue.groupby('studio').mean()\n",
    "\n",
    "# Sort the values in descending order\n",
    "\n",
    "bom_studio_revenue.sort_values('revenue', ascending=False, inplace=True)\n",
    "\n",
    "# Drop duplicates\n",
    "\n",
    "bom_studio_revenue.drop_duplicates(inplace=True)\n",
    "\n",
    "# Preview the first 10 values\n",
    "\n",
    "bom_studio_revenue.head(10)"
   ]
  },
  {
   "cell_type": "code",
   "execution_count": 83,
   "metadata": {},
   "outputs": [
    {
     "data": {
      "text/html": [
       "<div>\n",
       "<style scoped>\n",
       "    .dataframe tbody tr th:only-of-type {\n",
       "        vertical-align: middle;\n",
       "    }\n",
       "\n",
       "    .dataframe tbody tr th {\n",
       "        vertical-align: top;\n",
       "    }\n",
       "\n",
       "    .dataframe thead th {\n",
       "        text-align: right;\n",
       "    }\n",
       "</style>\n",
       "<table border=\"1\" class=\"dataframe\">\n",
       "  <thead>\n",
       "    <tr style=\"text-align: right;\">\n",
       "      <th></th>\n",
       "      <th>worldwide_gross</th>\n",
       "    </tr>\n",
       "    <tr>\n",
       "      <th>movie</th>\n",
       "      <th></th>\n",
       "    </tr>\n",
       "  </thead>\n",
       "  <tbody>\n",
       "    <tr>\n",
       "      <th>Avatar</th>\n",
       "      <td>2.776345e+09</td>\n",
       "    </tr>\n",
       "    <tr>\n",
       "      <th>Titanic</th>\n",
       "      <td>2.208208e+09</td>\n",
       "    </tr>\n",
       "    <tr>\n",
       "      <th>Star Wars Ep. VII: The Force Awakens</th>\n",
       "      <td>2.053311e+09</td>\n",
       "    </tr>\n",
       "    <tr>\n",
       "      <th>Avengers: Infinity War</th>\n",
       "      <td>2.048134e+09</td>\n",
       "    </tr>\n",
       "    <tr>\n",
       "      <th>Jurassic World</th>\n",
       "      <td>1.648855e+09</td>\n",
       "    </tr>\n",
       "  </tbody>\n",
       "</table>\n",
       "</div>"
      ],
      "text/plain": [
       "                                      worldwide_gross\n",
       "movie                                                \n",
       "Avatar                                   2.776345e+09\n",
       "Titanic                                  2.208208e+09\n",
       "Star Wars Ep. VII: The Force Awakens     2.053311e+09\n",
       "Avengers: Infinity War                   2.048134e+09\n",
       "Jurassic World                           1.648855e+09"
      ]
     },
     "execution_count": 83,
     "metadata": {},
     "output_type": "execute_result"
    }
   ],
   "source": [
    "# Required columns are genre and average rating\n",
    "\n",
    "film_revenue = movie_budgets[['movie','worldwide_gross']]\n",
    "\n",
    "film_revenue = film_revenue.groupby('movie').mean()\n",
    "\n",
    "# Sort values in descending order according to worldwide gross\n",
    "\n",
    "film_revenue.sort_values('worldwide_gross', ascending=False, inplace=True)\n",
    "\n",
    "# Preview the film revenue\n",
    "\n",
    "film_revenue.head()"
   ]
  },
  {
   "cell_type": "markdown",
   "metadata": {},
   "source": [
    "## 3. Stats and Measures\n",
    "\n",
    "We will derive a few statistics that will help inform our business recommendations."
   ]
  },
  {
   "cell_type": "markdown",
   "metadata": {},
   "source": [
    "We will calculate the average budget required for movie production and the average revenue expected from movie earnings"
   ]
  },
  {
   "cell_type": "code",
   "execution_count": 84,
   "metadata": {},
   "outputs": [
    {
     "data": {
      "text/plain": [
       "31587757.0965064"
      ]
     },
     "execution_count": 84,
     "metadata": {},
     "output_type": "execute_result"
    }
   ],
   "source": [
    "# Average production budget\n",
    "\n",
    "avg_budget = movie_budgets['production_budget'].mean()\n",
    "\n",
    "avg_budget"
   ]
  },
  {
   "cell_type": "code",
   "execution_count": 85,
   "metadata": {},
   "outputs": [
    {
     "data": {
      "text/plain": [
       "91487460.90643376"
      ]
     },
     "execution_count": 85,
     "metadata": {},
     "output_type": "execute_result"
    }
   ],
   "source": [
    "# Average revenue\n",
    "\n",
    "avg_revenue = movie_budgets['worldwide_gross'].mean()\n",
    "\n",
    "avg_revenue"
   ]
  },
  {
   "cell_type": "code",
<<<<<<< HEAD
   "execution_count": 86,
=======
   "execution_count": 1356,
>>>>>>> b0c6b980d17a639069cb2ac0e26c5471c93f1d7e
   "metadata": {},
   "outputs": [
    {
     "data": {
      "text/plain": [
       "2776345279.0"
      ]
     },
<<<<<<< HEAD
     "execution_count": 86,
=======
     "execution_count": 1356,
>>>>>>> b0c6b980d17a639069cb2ac0e26c5471c93f1d7e
     "metadata": {},
     "output_type": "execute_result"
    }
   ],
   "source": [
    "# Maximum revenue\n",
    "\n",
    "max_revenue = movie_budgets['worldwide_gross'].max()\n",
    "\n",
    "max_revenue"
   ]
  },
  {
   "cell_type": "code",
<<<<<<< HEAD
   "execution_count": 87,
=======
   "execution_count": 1355,
>>>>>>> b0c6b980d17a639069cb2ac0e26c5471c93f1d7e
   "metadata": {},
   "outputs": [
    {
     "data": {
      "text/plain": [
       "59899703.80992736"
      ]
     },
<<<<<<< HEAD
     "execution_count": 87,
=======
     "execution_count": 1355,
>>>>>>> b0c6b980d17a639069cb2ac0e26c5471c93f1d7e
     "metadata": {},
     "output_type": "execute_result"
    }
   ],
   "source": [
    "avg_net_income = avg_revenue - avg_budget\n",
    "\n",
    "avg_net_income"
   ]
  },
  {
   "cell_type": "markdown",
   "metadata": {},
   "source": [
    "From this data we can infer that net income from the movie production business would be approx. $ 59,899,703."
   ]
  },
  {
   "cell_type": "markdown",
   "metadata": {},
   "source": [
    "## 4. Data Visualization\n",
    "\n",
    "At this point we can create some graphs that will help us visualize the data we have gathered better. We will utilize:\n",
    "* Bar graphs\n",
    "* Line graphs\n",
    "* Histograms\n",
    "* Scatter Plots"
   ]
  },
  {
   "cell_type": "code",
   "execution_count": 88,
   "metadata": {},
   "outputs": [],
   "source": [
    "# import matplotlib and seaborn\n",
    "\n",
    "import matplotlib\n",
    "import matplotlib.pyplot as plt\n",
    "\n",
    "%matplotlib inline"
   ]
  },
  {
   "cell_type": "markdown",
   "metadata": {},
   "source": [
    "### Bar graphs showing the highest rated and most popular movie genres "
   ]
  },
  {
   "cell_type": "code",
<<<<<<< HEAD
   "execution_count": 89,
=======
   "execution_count": 1351,
>>>>>>> b0c6b980d17a639069cb2ac0e26c5471c93f1d7e
   "metadata": {},
   "outputs": [
    {
     "data": {
      "text/plain": [
       "([0, 1, 2, 3, 4],\n",
       " [Text(0, 0, ''),\n",
       "  Text(0, 0, ''),\n",
       "  Text(0, 0, ''),\n",
       "  Text(0, 0, ''),\n",
       "  Text(0, 0, '')])"
      ]
     },
<<<<<<< HEAD
     "execution_count": 89,
=======
     "execution_count": 1351,
>>>>>>> b0c6b980d17a639069cb2ac0e26c5471c93f1d7e
     "metadata": {},
     "output_type": "execute_result"
    },
    {
     "data": {
<<<<<<< HEAD
      "image/png": "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",
=======
      "image/png": "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",
>>>>>>> b0c6b980d17a639069cb2ac0e26c5471c93f1d7e
      "text/plain": [
       "<Figure size 720x720 with 1 Axes>"
      ]
     },
     "metadata": {
      "needs_background": "light"
     },
     "output_type": "display_data"
    }
   ],
   "source": [
    "fig, ax = plt.subplots(figsize=(10,10))\n",
    "\n",
    "# Get values for x and y axis for the plots\n",
    "\n",
    "highest_rated_genres = imdb_rating.index.to_list()[0:5]\n",
    "highest_rated_genres_ratings = imdb_rating['averagerating'][0:5].to_list()\n",
    "\n",
    "# Set the x and y axis\n",
    "\n",
    "ax.bar(highest_rated_genres, highest_rated_genres_ratings)\n",
    "\n",
    "# Set plot charateristics\n",
    "\n",
    "ax.set_title(\"Movie genres by rating\", fontsize = 18)\n",
    "ax.set_ylabel(\"Ratings\", fontsize = 15)\n",
    "ax.set_xlabel(\"Movie Genres\", fontsize = 15)\n",
    "plt.xticks(rotation=30)\n"
   ]
  },
  {
   "cell_type": "code",
<<<<<<< HEAD
   "execution_count": 90,
=======
   "execution_count": 1350,
>>>>>>> b0c6b980d17a639069cb2ac0e26c5471c93f1d7e
   "metadata": {},
   "outputs": [
    {
     "data": {
      "text/plain": [
       "Text(0.5, 0, 'Movie Genres')"
      ]
     },
<<<<<<< HEAD
     "execution_count": 90,
=======
     "execution_count": 1350,
>>>>>>> b0c6b980d17a639069cb2ac0e26c5471c93f1d7e
     "metadata": {},
     "output_type": "execute_result"
    },
    {
     "data": {
<<<<<<< HEAD
      "image/png": "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",
=======
      "image/png": "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",
>>>>>>> b0c6b980d17a639069cb2ac0e26c5471c93f1d7e
      "text/plain": [
       "<Figure size 720x720 with 1 Axes>"
      ]
     },
     "metadata": {
      "needs_background": "light"
     },
     "output_type": "display_data"
    }
   ],
   "source": [
    "fig, ax = plt.subplots(figsize=(10,10))\n",
    "\n",
    "# Get values for x and y axis for the plot\n",
    "\n",
    "popular_genres = imdb_joined['genres'].value_counts()[0:5].index.to_list()\n",
    "popular_genres_freq = imdb_joined['genres'].value_counts()[0:5].to_list()\n",
    "\n",
    "# Set the x and y axis\n",
    "\n",
    "ax.bar(popular_genres, popular_genres_freq)\n",
    "\n",
    "# Set plot charateristics\n",
    "\n",
    "ax.set_title(\"Movie genres by popularity\", fontsize = 18)\n",
    "ax.set_ylabel(\"Popularity\", fontsize = 15)\n",
    "ax.set_xlabel(\"Movie Genres\", fontsize = 15)\n",
    "\n"
   ]
  },
  {
   "cell_type": "markdown",
   "metadata": {},
   "source": [
    "### Line graph showing the relationship between movie production budget and revenue.\n",
    "\n",
    "Revenue and budget values were scaled down for readability."
   ]
  },
  {
   "cell_type": "code",
<<<<<<< HEAD
   "execution_count": 91,
=======
   "execution_count": 1354,
>>>>>>> b0c6b980d17a639069cb2ac0e26c5471c93f1d7e
   "metadata": {},
   "outputs": [
    {
     "data": {
      "text/plain": [
       "Text(0.5, 0, 'Revenue ( x $ 1,000,000)')"
      ]
     },
<<<<<<< HEAD
     "execution_count": 91,
=======
     "execution_count": 1354,
>>>>>>> b0c6b980d17a639069cb2ac0e26c5471c93f1d7e
     "metadata": {},
     "output_type": "execute_result"
    },
    {
     "data": {
      "image/png": "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",
      "text/plain": [
       "<Figure size 720x720 with 1 Axes>"
      ]
     },
     "metadata": {
      "needs_background": "light"
     },
     "output_type": "display_data"
    }
   ],
   "source": [
    "fig, ax = plt.subplots(figsize=(10,10))\n",
    "\n",
    "# get x and y values\n",
    "\n",
    "budget = movie_budgets['production_budget'].iloc[::200]/1000000\n",
    "revenue = movie_budgets['worldwide_gross'].iloc[::200]/1000000\n",
    "\n",
    "# Set the x and y axis\n",
    "\n",
    "ax.plot(revenue,budget)\n",
    "\n",
    "# Set plot charateristics\n",
    "\n",
    "ax.set_title(\"Production Budget against Revenue\", fontsize = 18)\n",
    "ax.set_ylabel(\"Production Budget ( x $ 1,000,000)\", fontsize = 15)\n",
    "ax.set_xlabel(\"Revenue ( x $ 1,000,000)\", fontsize = 15)\n",
    "\n"
   ]
  },
  {
   "cell_type": "markdown",
   "metadata": {},
   "source": [
<<<<<<< HEAD
    "### Movie Studios by Revenue"
=======
    "### Top 10 Highest grossing films at the box office\n",
    "\n",
    "Revenue values were scaled down for readability."
>>>>>>> b0c6b980d17a639069cb2ac0e26c5471c93f1d7e
   ]
  },
  {
   "cell_type": "code",
<<<<<<< HEAD
   "execution_count": 92,
=======
   "execution_count": 1348,
>>>>>>> b0c6b980d17a639069cb2ac0e26c5471c93f1d7e
   "metadata": {},
   "outputs": [
    {
     "data": {
      "text/plain": [
<<<<<<< HEAD
       "Text(0.5, 0, 'Movie Studios')"
      ]
     },
     "execution_count": 92,
=======
       "([0, 1, 2, 3, 4],\n",
       " [Text(0, 0, ''),\n",
       "  Text(0, 0, ''),\n",
       "  Text(0, 0, ''),\n",
       "  Text(0, 0, ''),\n",
       "  Text(0, 0, '')])"
      ]
     },
     "execution_count": 1348,
>>>>>>> b0c6b980d17a639069cb2ac0e26c5471c93f1d7e
     "metadata": {},
     "output_type": "execute_result"
    },
    {
     "data": {
<<<<<<< HEAD
      "image/png": "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",
=======
      "image/png": "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",
>>>>>>> b0c6b980d17a639069cb2ac0e26c5471c93f1d7e
      "text/plain": [
       "<Figure size 720x720 with 1 Axes>"
      ]
     },
     "metadata": {
      "needs_background": "light"
     },
     "output_type": "display_data"
    }
   ],
   "source": [
    "fig, ax = plt.subplots(figsize=(10,10))\n",
<<<<<<< HEAD
    "\n",
    "# Get values for x and y axis for the plot\n",
    "\n",
    "movie_studios = bom_studio_revenue.index.to_list()[0:5]\n",
    "studio_revenues = (bom_studio_revenue['revenue'][0:5]/1000000).to_list()\n",
    "\n",
    "\n",
    "# Set the x and y axis\n",
    "\n",
    "ax.bar(movie_studios, studio_revenues)\n",
    "\n",
    "# Set plot charateristics\n",
    "\n",
    "ax.set_title(\"Movie Studios by Highest Revenue\", fontsize = 18)\n",
    "ax.set_ylabel(\"Revenues ( x $ 1,000,000)\", fontsize = 15)\n",
    "ax.set_xlabel(\"Movie Studios\", fontsize = 15)\n"
   ]
  },
  {
   "cell_type": "markdown",
   "metadata": {},
   "source": [
    "### Top 10 Highest grossing films at the box office\n",
    "\n",
    "Revenue values were scaled down for readability."
   ]
  },
  {
   "cell_type": "code",
   "execution_count": 93,
   "metadata": {},
   "outputs": [
    {
     "data": {
      "text/plain": [
       "([0, 1, 2, 3, 4],\n",
       " [Text(0, 0, ''),\n",
       "  Text(0, 0, ''),\n",
       "  Text(0, 0, ''),\n",
       "  Text(0, 0, ''),\n",
       "  Text(0, 0, '')])"
      ]
     },
     "execution_count": 93,
     "metadata": {},
     "output_type": "execute_result"
    },
    {
     "data": {
      "image/png": "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",
      "text/plain": [
       "<Figure size 720x720 with 1 Axes>"
      ]
     },
     "metadata": {
      "needs_background": "light"
     },
     "output_type": "display_data"
    }
   ],
   "source": [
    "fig, ax = plt.subplots(figsize=(10,10))\n",
=======
>>>>>>> b0c6b980d17a639069cb2ac0e26c5471c93f1d7e
    "\n",
    "# Get values for x and y axis for the plots\n",
    "\n",
    "highest_grossing_films = film_revenue.index.to_list()[0:5]\n",
    "highest_grossing_films_revenue = (film_revenue['worldwide_gross'][0:5]/1000000).to_list()\n",
    "\n",
    "# Set the x and y axis\n",
    "\n",
    "ax.bar(highest_grossing_films, highest_grossing_films_revenue)\n",
    "\n",
    "# Set plot charateristics\n",
    "\n",
    "ax.set_title(\"Highest Grossing Films in Box Office\", fontsize = 18)\n",
    "ax.set_ylabel(\"Worldwide Gross Revenue ( x $ 1,000,000)\", fontsize = 15)\n",
    "ax.set_xlabel(\"Movie Title\", fontsize = 15)\n",
    "plt.xticks(rotation=30)\n"
   ]
  },
  {
   "cell_type": "markdown",
   "metadata": {},
   "source": [
    "### Top 10 most popular movies at the box office"
   ]
  },
  {
   "cell_type": "code",
<<<<<<< HEAD
   "execution_count": 94,
=======
   "execution_count": 1347,
>>>>>>> b0c6b980d17a639069cb2ac0e26c5471c93f1d7e
   "metadata": {},
   "outputs": [
    {
     "data": {
      "text/plain": [
       "([0, 1, 2, 3, 4],\n",
       " [Text(0, 0, ''),\n",
       "  Text(0, 0, ''),\n",
       "  Text(0, 0, ''),\n",
       "  Text(0, 0, ''),\n",
       "  Text(0, 0, '')])"
      ]
     },
<<<<<<< HEAD
     "execution_count": 94,
=======
     "execution_count": 1347,
>>>>>>> b0c6b980d17a639069cb2ac0e26c5471c93f1d7e
     "metadata": {},
     "output_type": "execute_result"
    },
    {
     "data": {
      "image/png": "iVBORw0KGgoAAAANSUhEUgAAAmMAAALLCAYAAAC1h4X+AAAAOXRFWHRTb2Z0d2FyZQBNYXRwbG90bGliIHZlcnNpb24zLjMuMSwgaHR0cHM6Ly9tYXRwbG90bGliLm9yZy/d3fzzAAAACXBIWXMAAAsTAAALEwEAmpwYAABf3ElEQVR4nO3debyt5dzH8c+3gWYVlQwpJBlDAw8SyVCozKFChIiMpceQKZmHJ1NEZYpIZZaSeUqDkKQklDrRPKp+zx/XtWq17TPsOmff+5z9eb9e+7X3ute91rrWXtN3XcPvTlUhSZKkYSw1dAMkSZJmM8OYJEnSgAxjkiRJAzKMSZIkDcgwJkmSNCDDmCRJ0oAMY9IsluSpSU5OcmWSSrJF375RkmOSXNi375Nk3dHfgzZ6Bhn6f5LkrCTHDXHbi4MkxyU5axFefyU5aFFdv2YPw5hmlP7mtqA/605ju86acNvXJ/lnkh8meeZ0tWNekmye5LAk5yS5Jsn5Sb6VZLu57H8P4IvAxcDLgB2BU5MsA3wVWB94Y99++LTciXlIssXY/3//ueyzZr/vZUhZ+CZ5HVzTt30qyZ2Hbt9M0L+4bDd0O7R4WWboBkgT7Djh9MOBXYEDgB9POG/OtLToRn8HXt//Xhq4I7Az8MUka1fVB6a5PTdI8g5gb+CvwIHAX4DbA88Cvpbks8Dzquq6sYttQXsP2KOqThi7rnsAdwVeXVX7j20PsDxw7aK9N/N1FfCsJK+uqqsnnLcjEKavjX9lZvxPptP462Bl2vPo+cDWSe5XVRcM1bABLA9cN2Hbm4GDgSOmvTVabBnGNKNU1efGT/deml2Bn088bwAXT9K+TwDnAs8FBgljSXahBbHvA9tW1RVj572bFs52As4C3jR20dv33/+ecJWTbq92uI6rFlrDb76vATsA2wJfnnDe84BvAVtOR0Nm0P9kOk18HXwsyfm03tXnAe8ZplnTI8nywH+q6tqqmm2PvRYRhym1WEqyYpJ3JjkjydV9yPCQJHeZsN9oaOu5SXZP8qckV/Xfuy+EplxI+zC+ZpI2bp7k6CQX9zlZJ/TgNL7Pl5JcN5qrNbb9sX0o9JB53XiSWwFvBy4DnjUexACq6lrgRcDZwGuSrNEvV8Bb+m5/6f+j0fyjH/btnxkfEp7X/KgkT0nygyQXJbkiyWlJPtzbN9onSV6S5Dd9n0v7ZR45r/s4iROAk2kf/ONt2BS4N/CZuV0wyXZJfprksv7z0yTbTtjnl0nO618EJl7+sf1/sEc/Pa//yTOS/KTfzyv69T51kv226cPdF/TnydlJDu89lAskyQOTHNvv07+THJxkzbHzn9zb+YK5XP73Sf7cez9vju/233cfu875Pv/7fsf1595dkxzZ978kydeS3HXCvs/N2NzGya5nfg1NsmmSg/p7wOh5+NMk20+y70H99tZI8ukk5wGXA3fq598wZ2z0XOgX3Tk3Hc69VZI5SX4ylza9ru/38Pm1X0smw5gWO/1D8rvAXrQP5lfS5j49HfhlkjtNcrHd+/6fow2xXAR8OMmbp3DTSye5Xf9ZK8lGtF6nlYFPTGjjE4FjgQ2B99F6rv4DfCptSHFkV9pQ1+eS3K5f9vbAIcCfgd3m06aH0nqyjqyqSYdt+7f3z9GGVLbum3ek9TBB+//tCOwBvAPYt28/oG/fkXkMCff78xVgTVrv4B60IZqtgRXGdv0ssH+/X68D9gFuAxyd5EnzuZ8TfQZ4zITH+vnA+cA35tLO3Wj3eXVagH1b//uIJLuO7Xpwvy+Pm+RqdqINSX5hXo1L8nbgUOBS2ry7vYArgMOSvHRsv0cAR9H+D++k9S59ErgtY8FmPu4EHAOcSfu/Hk57zH6QZPT/Pwr4JzBZGHowcC/g03XzD1a8fv99Qb/OBX3+j6wI/ID2peb1tNfV1sBP++thYdoeuCetV/UVtOf86sDhSZ41l8scDdyB9px5Pe3Lz0RzuHGaxY+58bWzY1VdQ3tePTTJPSe57POAP1XVxKkYmi2qyh9/ZuwPbfivgOeObXth3/buCftu07d/dmzbFn3bpcCdxrbfCvgV7QPiTgvQjrP69Uz8uRLYdcK+S9MC1kXAHSbc5k9pc0zWH9u+Ge1D6Ou0L0hHA1cDD1qAdu3e2/Gq+ez3lL7fe8e27dO3rTth39H/7LkTtq/bt+8ztm3Tvu1YYLkJ+wdI/3v7vt/E/9UywPG0OW6Zz30Ytes1tLByNbB3P2/5/v9+bz99GXDc2GVX69v+DKwytn0V4Iz+/Fi1b1u9X/eXJ9z+yrRekaPm8z95YN+27yT34QjgEmDlfvr9fd81b+brY/S83GPC9lf27XuNbdu3b7vXhH0/SQuYd1jA2zsVuF3/WY8WJC6ivZbuw9Sf/8f1dn1wwm2NnjMfn+T9YItJ2nYccNYCbFtxksuuAJwG/GHC9oP67X1uLv+PAg6a37a+/R5M/r710L79dTfnOeDPkvFjz5gWR9sD19N6Em5QVd8ETgK2TTLxuf35qvr72L7X0HpxlgGeuIC3exawVf95DO2D4Ze0OTPjQ2YPAtah9TScM+E230MLXNuObf8l8AbgCcCPgEfTPkR/swBtWqX/vng++43Ov80CXOdUPLv/fn1NmD9TXT/5HFrgOWKsd/F2wKq0ELouN/auzFdV/YvW2/PcvunJtPv26blcZCta78uHq+qSseu5BPg/YCXa/52q+ndv05OSrDp2HU+lfWgfPJ/mPZv24Xrw+H3t9/coWqh7SN939Lg8ZbJh0QV0CfCxCds+2rePD719srfrht6xJCsCzwC+Pf5cnY970nqB5tB64z5N6xHbtqp+xxSf/2P2Gz9RVV+jBaTtFrBdC6SqLh/9nWSFJLelPa7HAhsmWWWSi713Idzun2hTAHaa8FjvQgvD83teaQlmGNPiaD3gnKq6cJLzfk/7sLvdhO2nTrLvH/rvu05y3mQur6rv95+jq+pg2gf4H4D/62/qo/aN2jLR7+Zym++hDW08FPge8MEFbNMoWMwvZC1oaJuq9Wkf8CfPZ78NaY/Ledz4QT762afvs9YUb/szwPpJHkYbovxVVf1hLvtO9TE5BLg1beh7ZCfaHMFJh0HHbEjrFfwj/31fD+z7jO7r/sCJtPD077RSJC9Pn9u3gM6sCatK++kzx+9TVf2FtshjxyTL9s1Ppz0un5rC7Z3FjV9KHkHr5bp7VX2rn39znv8XVdU/J9n/VGCtHhoXirTyJweMzf+6gPbYvLjvsuokF/vTQrr5A2iP/RN6W1aiPQbfqKrzFtJtaDHkakotjm7OJOPJ5sLc3MnKN15p1bVJjqHNPdmMtpLv5lzvusD9+t93p/XUXLoAlxt9uD1wPvuNzj9lyi2btzD5/3ay/ebQSm3Mze/mcd5kvgv8g1ZK4JHAS+Zz+1PxLVp7dwIOSLIOLXh8fGLwmcttFfB4/rvswcjvofXwJdmEVsJlK2BzWo/tW5JsXVU/X4C2zu3/P9l9PgA4DHgSrZbcLrS5ZN9cgNsZubyqvj+P8xfW63Oy65rXc22+n2d9gcL3aIH5w8CvaV9QrqMNtz6LSTopasLCmFvgq/12d6ENWT+T1mM7lTCsJZBhTIujM4DHJVm1qi6acN69aL1FE2sd3WuS69mw/z7zFrZn1Muw8lj7oK3sm2jUjhtusw9ZfJH2enw58CHasNNzFuC2f0brbdo2ye1qkhpPSZbr13UV8O0FuM6pOI020f1+tDl4c3M6bc7ML6pqssnPU1ZV16WtNn09be7eofPYffwxOWbCef/1mPSQ/QXgFX1F3w60YLAgQ0mn0/4nZ1fVZD2y/3U/aHObjgNIcj/gN7Sh620W4PbuluRWfRiQfh23pvVQ/XHCvkfSFjnskuR3tJ7Yd1VbdbuwTOn5362W5PaT9I7dEzh/bGhxVG5l9Umuez3avLV5uR9wf+CtVXWTxTtzW2m6MFXV1f05+/Ikd6CFsn8A31nUt62ZzWFKLY6OoD139xrfmOTxwANoE6yvn3CZZ4+vvEsrufBK2jfi+Q07zVUPOqNVdyeM/T4beN74SrA+NPRa2rf7I8eu5u20XrWXVdX/0VafPTvJzvO7/d5L8yZaT9rn0mogjbdvadoQ2F2A91TV+VO+k/M2WlW4bw8AN9F7IqAN+y3FhHl+Y/tNdYhy5OO0Eh0vrqp5DcEeTRuS2j3JKDTT/96dNrn/6AmXGQWvnWir4k7r8/vm57P99779/38TuWnJiYnD6dAC1JVMHjgmswr/vep2t779iPGNVfUf2qT0x9J6FOHGodOFZarP/5GJr+ftgQ246X0YDRc+esK+O9BWO87PqKfyJj1uSe7DTefX3RKXMe/H7pO0RQ7vAh5Mm+w/tx5UzRL2jGlxdBCt8v2eaYdE+hFtaG83Wi/R3pNc5k+0shcfpw3/PQvYBHhbVf1tAW/3NklGvVWhvfk/hzb/5ZNVdTrc0GPzMloZhV8nOaDf5jNob777jvZN8mhaOYIvVNVB/br3pg2J7Z/kZ6N956aqDkhyt349f+jfvM+ilbzYAbgvrbTFW+Z6JTdTVf0qybuAPYHfJPkSbdhrPdqE901p84G+kuQzwMuSPJAWgC+glWV4CO3xW9C5e+O3fzY3zjmb134XJXkd8BHa8+CgftZz+22/aGKYq6oTk5xCC+2rMPnzarLb+nUvmfIW4KQkhwHnAGvTJrdvTVtZCPDJ/iXhe9xYzf8ZtF7WedaYG3MG8OYeKH7Tb+P5tFD34Un2/yQtFO0A/HB+z6+pmsrzf8wFwJN7b9FxtLmIo9fzPmPXfVqS7wMv6kH/JGAjWpD6Mzf2Us/NqbQh4tf1sh+n0XpsX0QbJp/fcP+C+AXw6CR70kJpVdUNvbZVdWpavbHn0ILp3BadaDYZejmnP/7M64dJSlv07SvSelnOpJWFOJ/WI3GXCfttMbo8bQjwdFrZgtOBV0yhHWfx32UtLqfNOXkJsNQkl3kErbflEtoQ4YnAC8bOX5NWvf/P9FIHY+fdrV/ueOBWC9jGLWhzUs7t/5M5tGHJ7eey/z7cwtIWY+ftQCtbcGn/v/yRtgjhVhP225G2UGH0PzmLVhfrGQt4/wp4zQLse5PSFmPbt6cN7V7ef34GbDeP63l1v83rgDtPcv68/ifb0Oa1/bs/5/7WH4+XjO3zZNoKy7/3febQVtw9ZQrPy+NoIeLYfp8upL0W1prH5Y7p7d5xiq/Hs4DfLeC+83z+j+13XL/eu9J6zC7pz6MjgbtPsv/tafPeLumP87dpUw6OY8FKW9ylX34Orfbbr/rzYh8mvB7opS3mcR8nK22xPi1cX9LP/6/L99dBAcdM5f/vz5L7M6oBJC2R0ip1/4B2XMaDBm2MNEMk+RatR/IOVXXlwG05jhaA1h2yHdMpydOBL9GOmvHFoduj4TlnTJJmkSR3p80Z++zQQWwWeyltaPbwoRuimcE5Y5I0CyTZjDac93LaMPb7h23R7NIXbmxJK2OyOa1Q8vzKpGiWMIxJ0uzwEtrK0DOBZ1fVWcM2Z9a5F2318UW0VcDvG7Q1mlGcMyZJkjQg54xJkiQNaLEdprzd7W5X66677tDNkCRJmq/f/OY3F1TVpMedXWzD2Lrrrsvxxx8/dDMkSZLmK8lf53aew5SSJEkDMoxJkiQNyDAmSZI0IMOYJEnSgAxjkiRJAzKMSZIkDcgwJkmSNCDDmCRJ0oAMY5IkSQMyjEmSJA3IMCZJkjQgw5gkSdKADGOSJEkDMoxJkiQNyDAmSZI0IMOYJEnSgAxjkiRJAzKMSZIkDcgwJkmSNCDDmCRJ0oAMY5IkSQMyjEmSJA3IMCZJkjQgw5gkSdKAlhm6ATPZunt9c+gmLHHO2m+boZsgSdKMMu09Y0lemeT3SX6X5ItJlkuyepKjk5zef6823e2SJEkawrSGsSR3BF4ObFxV9wGWBp4J7AUcU1XrA8f005IkSUu8IeaMLQMsn2QZYAXgHGBb4OB+/sHAdgO0S5IkadpNaxirqn8A7wXOBs4FLq6q7wFrVdW5fZ9zgTWns12SJElDme5hytVovWDrAXcAVkzynClcftckxyc5fs6cOYuqmZIkSdNmuocpHw38parmVNV/gMOB/wHOS7I2QP99/mQXrqoDqmrjqtp4jTXWmLZGS5IkLSrTHcbOBh6cZIUkAbYETgWOAnbu++wMHDnN7ZIkSRrEtNYZq6pfJvkKcAJwLXAicACwEvDlJLvQAtvTprNdkiRJQ5n2oq9V9WbgzRM2X03rJZMkSZpVPBySJEnSgAxjkiRJAzKMSZIkDcgwJkmSNCDDmCRJ0oAMY5IkSQMyjEmSJA1o2uuMSQvbunt9c+gmLHHO2m+boZsgSbOGPWOSJEkDMoxJkiQNyDAmSZI0IMOYJEnSgAxjkiRJAzKMSZIkDcgwJkmSNCDDmCRJ0oAMY5IkSQMyjEmSJA3IMCZJkjQgw5gkSdKADGOSJEkDMoxJkiQNyDAmSZI0IMOYJEnSgAxjkiRJAzKMSZIkDcgwJkmSNCDDmCRJ0oAMY5IkSQMyjEmSJA3IMCZJkjQgw5gkSdKADGOSJEkDMoxJkiQNyDAmSZI0IMOYJEnSgAxjkiRJAzKMSZIkDcgwJkmSNCDDmCRJ0oAMY5IkSQMyjEmSJA3IMCZJkjQgw5gkSdKADGOSJEkDMoxJkiQNyDAmSZI0IMOYJEnSgAxjkiRJAzKMSZIkDcgwJkmSNCDDmCRJ0oAMY5IkSQMyjEmSJA3IMCZJkjSgaQ1jSTZIctLYzyVJ9kiyepKjk5zef682ne2SJEkayrSGsao6rao2qqqNgAcBVwBfA/YCjqmq9YFj+mlJkqQl3pDDlFsCZ1TVX4FtgYP79oOB7YZqlCRJ0nQaMow9E/hi/3utqjoXoP9ec7BWSZIkTaNBwliSWwFPAg6b4uV2TXJ8kuPnzJmzaBonSZI0jYbqGXs8cEJVnddPn5dkbYD++/zJLlRVB1TVxlW18RprrDFNTZUkSVp0hgpjO3DjECXAUcDO/e+dgSOnvUWSJEkDmPYwlmQFYCvg8LHN+wFbJTm9n7ffdLdLkiRpCMtM9w1W1RXAbSds+xdtdaUkSdKsYgV+SZKkARnGJEmSBmQYkyRJGpBhTJIkaUCGMUmSpAEZxiRJkgZkGJMkSRqQYUySJGlAhjFJkqQBGcYkSZIGZBiTJEkakGFMkiRpQIYxSZKkARnGJEmSBmQYkyRJGpBhTJIkaUCGMUmSpAEZxiRJkgZkGJMkSRqQYUySJGlAhjFJkqQBGcYkSZIGZBiTJEkakGFMkiRpQIYxSZKkARnGJEmSBmQYkyRJGpBhTJIkaUCGMUmSpAEZxiRJkgZkGJMkSRqQYUySJGlAhjFJkqQBGcYkSZIGZBiTJEkakGFMkiRpQIYxSZKkARnGJEmSBmQYkyRJGpBhTJIkaUCGMUmSpAEZxiRJkgZkGJMkSRqQYUySJGlAhjFJkqQBGcYkSZIGZBiTJEkakGFMkiRpQIYxSZKkARnGJEmSBmQYkyRJGpBhTJIkaUCGMUmSpAEZxiRJkgZkGJMkSRrQtIexJKsm+UqSPyY5NclDkqye5Ogkp/ffq013uyRJkoawzAC3+SHgO1X11CS3AlYA9gaOqar9kuwF7AXsOUDbJC0i6+71zaGbsEQ5a79thm6CpIVkWnvGkqwCbA4cCFBV11TVRcC2wMF9t4OB7aazXZIkSUOZ7mHKuwJzgM8kOTHJp5KsCKxVVecC9N9rTnO7JEmSBjHdYWwZ4IHAx6rqAcDltCHJBZJk1yTHJzl+zpw5i6qNkiRJ02a6w9jfgb9X1S/76a/Qwtl5SdYG6L/Pn+zCVXVAVW1cVRuvscYa09JgSZKkRWlaw1hV/RP4W5IN+qYtgT8ARwE79207A0dOZ7skSZKGMsRqyt2Bz/eVlGcCz6OFwi8n2QU4G3jaAO2SJEmadtMexqrqJGDjSc7acpqbIkmSNDgr8EuSJA3IMCZJkjQgw5gkSdKADGOSJEkDMoxJkiQNyDAmSZI0IMOYJEnSgAxjkiRJAzKMSZIkDcgwJkmSNCDDmCRJ0oAMY5IkSQMyjEmSJA3IMCZJkjQgw5gkSdKADGOSJEkDMoxJkiQNyDAmSZI0IMOYJEnSgAxjkiRJAzKMSZIkDcgwJkmSNCDDmCRJ0oAMY5IkSQMyjEmSJA3IMCZJkjQgw5gkSdKADGOSJEkDMoxJkiQNyDAmSZI0IMOYJEnSgAxjkiRJAzKMSZIkDcgwJkmSNCDDmCRJ0oCWGboBkqSZYd29vjl0E5Y4Z+23zdBN0GLAnjFJkqQBGcYkSZIGZBiTJEkakGFMkiRpQIYxSZKkARnGJEmSBmQYkyRJGpBhTJIkaUCGMUmSpAEZxiRJkgZkGJMkSRqQYUySJGlAhjFJkqQBGcYkSZIGZBiTJEkakGFMkiRpQIYxSZKkARnGJEmSBmQYkyRJGtAy032DSc4CLgWuA66tqo2TrA58CVgXOAt4elVdON1tkyRJmm5D9Yw9sqo2qqqN++m9gGOqan3gmH5akiRpiTftPWNzsS2wRf/7YOA4YM+hGiNJ0ky17l7fHLoJS5yz9ttm0NsfomesgO8l+U2SXfu2tarqXID+e80B2iVJkjTthugZe2hVnZNkTeDoJH9c0Av28LYrwDrrrLOo2idJkjRtpr1nrKrO6b/PB74GbAqcl2RtgP77/Llc9oCq2riqNl5jjTWmq8mSJEmLzLSGsSQrJll59DfwGOB3wFHAzn23nYEjp7NdkiRJQ5nuYcq1gK8lGd32F6rqO0l+DXw5yS7A2cDTprldkiRJg5jWMFZVZwL3n2T7v4Atp7MtkiRJM4EV+CVJkgZkGJMkSRqQYUySJGlAhjFJkqQBGcYkSZIGZBiTJEkakGFMkiRpQIYxSZKkARnGJEmSBjSlMJZk9UXVEEmSpNloqj1j5yb5cpLHJ7FXTZIk6RaaaqB6MbAm8A3gb0n2TbLBwm+WJEnS7DClMFZVn6mqLYD1gQOBHYA/JPlpkl2SrLQI2ihJkrTEullDjVV1ZlW9qarWA7YCrgMOAP6Z5KAkD1yYjZQkSVpS3ex5X0lWSPJc4E3Aw4A/AB8ANgR+neS1C6WFkiRJS7Aph7Ekmyf5DPBP4EPAacCDq+q+VfXGqtoMeD2w18JtqiRJ0pJnqqUtzgB+ANwdeDmwdlW9qKp+NWHXY4DVFk4TJUmSllzLTHH/rwKfqqo/zWunqvoNFpSVJEmar6kGpt8B/5rsjCSrJ9npljdJkiRp9phqGPsMcLe5nLdeP1+SJEkLaKphLPM477bAJbegLZIkSbPOfOeMJdkW2HZs0xuTzJmw23LAw4FfL8S2SZIkLfEWZAL/msB9x07fDbj9hH2uAb4HvH0htUuSJGlWmG8Yq6pPAp8ESPIDYLeqOnVRN0ySJGk2mFJpi6p65KJqiCRJ0my0IHPGdgMOq6o5/e95qar62MJpmiRJ0pJvQXrG9geOB+b0v+elAMOYJEnSAlqQOWNLTfa3JEmSbrkFDldJlkvyySQPXpQNkiRJmk0WOIxV1VXAM2k1xSRJkrQQTHXY8VjAFZWSJEkLyZRKWwAfAT6VZEXgW8B5tEn7N6iqPyyktkmSJC3xphrGvtN/v6r/jAex9NNLL4R2SZIkzQpTDWMOUUqSJC1EU63A/8NF1RBJkqTZaKo9YzdIshSTrKysqituUYskSZJmkSmtpkyzZ5I/A/8BLp3kR5IkSQtoqqUtXg7sBRxIm7D/DuCtwJ+As4BdF2bjJEmSlnRTDWMvBN4MvLufPqKq3gLcG/gjsP5CbJskSdISb6phbD3gpKq6jjZMuSpAVV0PfBTYeaG2TpIkaQk31TD2L2Cl/vfZwAPGzlsNWH5hNEqSJGm2mOpqyp8Cm9Cq738B2CfJ6sA1wEuBYxZu8yRJkpZsUw1j+wB37H/vSxumfC6tR+xoYPeF1C5JkqRZYapFX08DTut/Xw28ov9IkiTpZpjqnDFJkiQtRPPtGUvy5alcYVU9/eY3R5IkaXZZkGHKNRZ5KyRJkmap+YaxqnrkdDREkiRpNnLOmCRJ0oCmtJoyybvnt09Vve7mN0eSJGl2mWqdsadNsm01YBXgYuBCwDAmSZK0gKZaZ2y9ybYn2Qw4AHjxwmiUJEnSbLFQ5oxV1S+B9wD7L4zrkyRJmi0W5gT+fwEbLMTrkyRJWuJNdQL/CpNsvhWwIfBW4PcLo1GSJEmzxVQn8F8G1CTbA/wD2G5BriTJ0sDxwD+q6glJVge+BKwLnAU8vaounGLbJEmSFjtTDWPP57/D2FXA34FfVdV/FvB6XgGcSluFCbAXcExV7Zdkr356zym2TZIkabEz1dWUB93SG0xyJ2Ab4B3Aq/rmbYEt+t8HA8dhGJMkSbPAVHvGAEiyAbAJsDZwLnB8Vf1xAS/+QVotspXHtq1VVecCVNW5Sda8Oe2SJEla3Ex1Av8qwCeBp9BWYl4GrARcn+Rw4AVVdck8Lv8E4Pyq+k2SLaba2CS7ArsCrLPOOlO9uCRJ0owz1dIWHwUeA+wErFBVqwArADsDW/Xz5+WhwJOSnAUcCjwqyeeA85KsDdB/nz/ZhavqgKrauKo2XmONNabYdEmSpJlnqmFsW+C1VfWFqroKoKquqqrP04Yet53Xhavq9VV1p6paF3gmcGxVPQc4ihbo6L+PnGK7JEmSFktTDWOX0eaITeYc4PKb2Y79gK2SnE7rYdvvZl6PJEnSYmWqE/g/ArwmybFVdeVoYy8G+xrmP0x5g6o6jrZqkqr6F7DlFNsiSZK02JtqGLsNsD7wtyRH0+Z2rUnrzboSOD7Ju/u+VVWWp5AkSZqHqYaxpwL/6T8PHtt+6dj5I4W1wiRJkuZpqkVf11tUDZEkSZqNpjqBX5IkSQvRlMNYkrsm+ViSU5L8o//+aJK7LooGSpIkLcmmWoH/QcAPaAcH/wZwHrAWrSL/s5M8sqpOWOitlCRJWkJNdQL/e4ETgcdX1RWjjb20xbf6+Y9aeM2TJElask11mHJT4N3jQQygn34vsNnCapgkSdJsMNUwdiVw27mctzpt+FKSJEkLaKph7JvAfkkeNr6xn34n8PWF1TBJkqTZYKpzxl5FO4j3j5KcT5vAv2b/+Rnw6oXbPEmSpCXbAoWxJMsDWwPrAh8D9qcdFmlt2oHDf1lV31tEbZQkSVpizTeM9fph36cFsZFLgGdU1XcXUbskSZJmhQWZM/Zu4Hrg4cAKwL1p5S0+tgjbJUmSNCssSBh7CPCGqvppVV1VVacCLwLukmTtRds8SZKkJduChLG1gTMnbDsDCHD7hd4iSZKkWWRBS1vUIm2FJEnSLLWgpS2+m+TaSbYfM3F7Va15y5slSZI0OyxIGHvLIm+FJEnSLDXfMFZVhjFJkqRFZKqHQ5IkSdJCZBiTJEkakGFMkiRpQIYxSZKkARnGJEmSBmQYkyRJGpBhTJIkaUCGMUmSpAEZxiRJkgZkGJMkSRqQYUySJGlAhjFJkqQBGcYkSZIGZBiTJEkakGFMkiRpQIYxSZKkARnGJEmSBmQYkyRJGpBhTJIkaUCGMUmSpAEZxiRJkgZkGJMkSRqQYUySJGlAhjFJkqQBGcYkSZIGZBiTJEkakGFMkiRpQIYxSZKkARnGJEmSBmQYkyRJGpBhTJIkaUCGMUmSpAEZxiRJkgZkGJMkSRqQYUySJGlAhjFJkqQBTWsYS7Jckl8lOTnJ75O8pW9fPcnRSU7vv1ebznZJkiQNZbp7xq4GHlVV9wc2Ah6X5MHAXsAxVbU+cEw/LUmStMSb1jBWzWX95LL9p4BtgYP79oOB7aazXZIkSUOZ9jljSZZOchJwPnB0Vf0SWKuqzgXov9ecy2V3TXJ8kuPnzJkzbW2WJElaVKY9jFXVdVW1EXAnYNMk95nCZQ+oqo2rauM11lhjkbVRkiRpugy2mrKqLgKOAx4HnJdkbYD++/yh2iVJkjSdpns15RpJVu1/Lw88GvgjcBSwc99tZ+DI6WyXJEnSUJaZ5ttbGzg4ydK0IPjlqvpGkp8DX06yC3A28LRpbpckSdIgpjWMVdVvgQdMsv1fwJbT2RZJkqSZwAr8kiRJAzKMSZIkDcgwJkmSNCDDmCRJ0oAMY5IkSQMyjEmSJA3IMCZJkjQgw5gkSdKADGOSJEkDMoxJkiQNyDAmSZI0IMOYJEnSgAxjkiRJAzKMSZIkDcgwJkmSNCDDmCRJ0oAMY5IkSQMyjEmSJA3IMCZJkjQgw5gkSdKADGOSJEkDMoxJkiQNyDAmSZI0IMOYJEnSgAxjkiRJAzKMSZIkDcgwJkmSNCDDmCRJ0oAMY5IkSQMyjEmSJA3IMCZJkjQgw5gkSdKADGOSJEkDMoxJkiQNyDAmSZI0IMOYJEnSgAxjkiRJAzKMSZIkDcgwJkmSNCDDmCRJ0oAMY5IkSQMyjEmSJA3IMCZJkjQgw5gkSdKADGOSJEkDMoxJkiQNyDAmSZI0IMOYJEnSgAxjkiRJAzKMSZIkDcgwJkmSNCDDmCRJ0oAMY5IkSQMyjEmSJA3IMCZJkjSgaQ1jSe6c5AdJTk3y+ySv6NtXT3J0ktP779Wms12SJElDme6esWuBV1fVhsCDgZcmuRewF3BMVa0PHNNPS5IkLfGmNYxV1blVdUL/+1LgVOCOwLbAwX23g4HtprNdkiRJQxlszliSdYEHAL8E1qqqc6EFNmDNuVxm1yTHJzl+zpw509ZWSZKkRWWQMJZkJeCrwB5VdcmCXq6qDqiqjatq4zXWWGPRNVCSJGmaTHsYS7IsLYh9vqoO75vPS7J2P39t4PzpbpckSdIQpns1ZYADgVOr6v1jZx0F7Nz/3hk4cjrbJUmSNJRlpvn2HgrsCJyS5KS+bW9gP+DLSXYBzgaeNs3tkiRJGsS0hrGq+gmQuZy95XS2RZIkaSawAr8kSdKADGOSJEkDMoxJkiQNyDAmSZI0IMOYJEnSgAxjkiRJAzKMSZIkDcgwJkmSNCDDmCRJ0oAMY5IkSQMyjEmSJA3IMCZJkjQgw5gkSdKADGOSJEkDMoxJkiQNyDAmSZI0IMOYJEnSgAxjkiRJAzKMSZIkDcgwJkmSNCDDmCRJ0oAMY5IkSQMyjEmSJA3IMCZJkjQgw5gkSdKADGOSJEkDMoxJkiQNyDAmSZI0IMOYJEnSgAxjkiRJAzKMSZIkDcgwJkmSNCDDmCRJ0oAMY5IkSQMyjEmSJA3IMCZJkjQgw5gkSdKADGOSJEkDMoxJkiQNyDAmSZI0IMOYJEnSgAxjkiRJAzKMSZIkDcgwJkmSNCDDmCRJ0oAMY5IkSQMyjEmSJA3IMCZJkjQgw5gkSdKADGOSJEkDMoxJkiQNyDAmSZI0IMOYJEnSgAxjkiRJAzKMSZIkDWhaw1iSTyc5P8nvxratnuToJKf336tNZ5skSZKGNN09YwcBj5uwbS/gmKpaHzimn5YkSZoVpjWMVdWPgH9P2LwtcHD/+2Bgu+lskyRJ0pBmwpyxtarqXID+e8257Zhk1yTHJzl+zpw509ZASZKkRWUmhLEFVlUHVNXGVbXxGmusMXRzJEmSbrGZEMbOS7I2QP99/sDtkSRJmjYzIYwdBezc/94ZOHLAtkiSJE2r6S5t8UXg58AGSf6eZBdgP2CrJKcDW/XTkiRJs8Iy03ljVbXDXM7acjrbIUmSNFPMhGFKSZKkWcswJkmSNCDDmCRJ0oAMY5IkSQMyjEmSJA3IMCZJkjQgw5gkSdKADGOSJEkDMoxJkiQNyDAmSZI0IMOYJEnSgAxjkiRJAzKMSZIkDcgwJkmSNCDDmCRJ0oAMY5IkSQMyjEmSJA3IMCZJkjQgw5gkSdKADGOSJEkDMoxJkiQNyDAmSZI0IMOYJEnSgAxjkiRJAzKMSZIkDcgwJkmSNCDDmCRJ0oAMY5IkSQMyjEmSJA3IMCZJkjQgw5gkSdKADGOSJEkDMoxJkiQNyDAmSZI0IMOYJEnSgAxjkiRJAzKMSZIkDcgwJkmSNCDDmCRJ0oAMY5IkSQMyjEmSJA3IMCZJkjQgw5gkSdKADGOSJEkDMoxJkiQNyDAmSZI0IMOYJEnSgAxjkiRJAzKMSZIkDcgwJkmSNCDDmCRJ0oAMY5IkSQMyjEmSJA3IMCZJkjQgw5gkSdKAZkwYS/K4JKcl+XOSvYZujyRJ0nSYEWEsydLAR4DHA/cCdkhyr2FbJUmStOjNiDAGbAr8uarOrKprgEOBbQdukyRJ0iI3U8LYHYG/jZ3+e98mSZK0REtVDd0GkjwNeGxVvaCf3hHYtKp2n7DfrsCu/eQGwGnT2tCZ7XbABUM3QvPkY7R48HFaPPg4zXw+Rjd1l6paY7IzlpnulszF34E7j52+E3DOxJ2q6gDggOlq1OIkyfFVtfHQ7dDc+RgtHnycFg8+TjOfj9GCmynDlL8G1k+yXpJbAc8Ejhq4TZIkSYvcjOgZq6prk7wM+C6wNPDpqvr9wM2SJEla5GZEGAOoqm8B3xq6HYsxh29nPh+jxYOP0+LBx2nm8zFaQDNiAr8kSdJsNVPmjEmSJM1KhjFNuyQZug2LI/9vkhaFJGaBgfkAaNqkqz42nmTGzFmcyUYhrJxToGnUD1OnJVySparq+v732ovT474khcgl5o5o5qsuySpJPgxsMnSbZrokjwD2GDv90iRbDdcizQb9S9N1/e/Vhm6PFp2quj7JXZIcCbwBWGvoNi2ICSHyXkluM3SbbgnDmBapid9ckuwBvBc4u6p+PkijFi/rAPdLslE/vTlw8nDN0WzQvzQ9JMm3gHcleW2S5Ydul265iT1fSe4GHAYcVVUvrar/Krg+k4w+U3qIvHuSrwH/B0xa2X5x4TCRFok+tJaxby5L92/aywLPp4WMm3y7UTP2vwL4PrAesH2Sov3/LkiyTFVdO1gjtUSZ8JwjyR1pvSTv6Js+A5wHHDJA87QQjE13GPV43qWq/gpcA5wEXJPkMbT35vOq6utDtXUyo8+KHsKWB64G9gV+VFUfGLh5t5g9Y1qoktwtySP6iOT1STZJciDw0h4g3gOcBTxxdJHBGjtDVdV1SVZO8nbgOuAnwOq0D8Y/9jckg5gWmrEP6IckWQG4F3AKsCat1+HzwGeHa6FuriR3Hf3dezw3S/JjWo/n7sDtgV/Rjvu8CfBw4GVJHjZIg+di7Iv9E4Af0Y7UczqwTpIXJXlHkpcnWXfAZt5shjEtbNsDHwBI8rb+9xeARwIf7fu8CHgb3BA8ZvXzMMmWY8OQJNkO+DHtg/AK2rfWM4A7ADsm+USSvZNs6wpL3RyjxTRjp7dNcgrwVNrnwl+AFwM7AY+tqrf0/TYdor26eZKsCnw0ya17EFsPeBmwG/BWYC9gI+DAqnp4Vb0DeBPwT+DMYVrd9KfoUmOnV0jyYlqP7c5V9QXg28BKtC+t1wL3BR49RHtvqVn9IahbZvRmnmSXJKODwb4fWD7JBsARwLa0F8s9gYckeXJVHQP8OsnB/TKzcpVgkgcluR+wGvCnsdWlDwVeW1W7VtVlVfVvWu/Y92jz7d4JXAA8G1hxgKZrMdaHe0aLae7Qe8L2BJ5bVa+uqsuAc4D9gX9V1Zz+PP0W8D9Jlh2w+VoAoyBTVRdV1eOAR/WzlgauBB4LHAh8GvgUsFSSNZO8GTgS+OuQc8dGq+776MqaSdaoqitoQ+Vr0L6YAvysql5YVZ8CPkzr5TtjoGbfIlbg1y2W5CrgB8C+VfXjJPsB51fV+5PsAOxM6zHbjda1/ChgVeB9wA7jc1VmkySH0F6DOybZDTinqo5IciLw9qr6apKVquqyPkfimcDjaUHtr0O2XYu3JMvReqh3o70+Xwj8BzgNuCvwd9qH9KHAHNqw5aeqav9BGqwFNtk83CTXA08Afg18FbgQ2K2q/tHPvy9wGe3L89eGen8ZhbCx028CdgB+SgtZHwVeAdyqqt7Q97kj8BzaXOSDquqd097whcCeMU1ZknWTbJ7k1n3TXsDZwFv6tnOAVXrP2Z2AM6rqStr4/p2Brarqb1X19NkSxPo31aWTvCTJvfrmtwIbJ1kZuC3wiCS3Bz4EPA2gB7HVaB+Q3wE+Mv5GOduHeDV/+e/Vc6sBHwSeWFUbVNUvgM/RJnL/nfah9yDawpHHAa8FHjwKYj7nZp7xIb3em/TAJK9L8vC+y/OB91bVHNr8sFOAWydZP8kPgB2Bv1XVB4cIYmOLC8aD2FOAVatqQ+AE2vPwtrRgtlqS0bzjS4HfAZuPgtjiOH3DF5Vujs1pc76e2k9fDHyN9iLfDbgKeAytS/wUYN0kX6F9E39JVR0+uqKJHxRLqv4mcwfgI8DeSe5RVX+mzQ17FO0b32373z8EVupzw3anTVZ9clWdW1U/nHC9rkTVpPoikPF6YfdNcsequpD24bZhem2mqvpBVb28qg4DfksbOj+nqq6rqn9U1VWj16rPuZllbNj5+iRLJXkg8EnakN3nkmxQVQcBV/c5V3vThio/SCtp8YWqet1Qi4JG7e9/r5vkRf2sNYAL+2fH9rQvD2cCv6DNZ3taklWq6pKq+mZVnde/8N6kd21x4TClbpYkz6bNO/g2cCJt0uezgd1pkynfBTy7qo7s384eDvxfVV3aL79YvmCmqr8xXgucWlX/6XMy7kbrZn9mkn1pH3r7J3kB8ADavLtLgK1p88c+XlUnDHQXtBhK8lpgrap6TZK70D54V6L1IhxMe83uRZsb9K4etNYD9gHuTptycNQQbdfNk+SVtJ7Mk4HDqurXSd4HLFdVL+3zer8L3LmqrkiyNnBBVf1nwGYDkGRN4FW0L6QPBrYBHkJ7L9yjf0kgreD1KcAKwO2q6lfDtHjhs2dM8zWXYYmv0IY23ksLDivResM+CvyL9mJ5clo5ix9X1b5VdelYV/oSH8S6pwBvoc31Argc+DhwRZ9Pdy0t1EIrH7A88Azg6qo6uE/iP2F8GEKam7FFIL/jxlVlTwW+XVVbAavQhqyuBQ6nTci/Z+89u5S2qu7BBrGZq78XjK+E3STJXrQveQcCD6O9h0D7UrxBkidV1fG0XqXdAHpP+7QHsUmGzVeg1a+7kvac/CPwOuDLtDJIt02yYZJX0KZwbFJVZy5JQQws+qoF0Lu/b9f/vqD/vhr4XpKDaEOWf6D14nyvqg5N8lDaRNAbur57b9isGOIY6/l7E21y9HOSzKH9n55MW16+K61w4SOSbFZVv0zyVWCZqrpk7LpGE3JnS4DVFCV5XFV9Z+z19hfgxCT3ptXy2zjJTsCpwOuq6sIk1wB/Bl4NvLCqzqOtVvuvIrCaOcaH9GgT7h/Yf15VVUf395k9ktyvqn6b5OvAK5N8H3jSUI/r2Lyw0bD5CtVWSN4FWKNuLJ/yV+DttB6yFwBPp33pvxjYpqr+MkDzFzm/aeu/zKUH5jO0EMFoXB6gqv6XNuF3a+B/gNEclN2r6tjxK1jSe8PGv61WVY3N1/kcbXjgQOBntP/TnfvpK2m9ilv3y32zqo4cv97ZEmB18/QJ+Z9K8r9J7tw3/4dWTuZiYGXg3sCe1coAXJjkybS5nR+nVTG/CYPYzDHek9Tfe5fuwfq1tMVSu9B6kG7fd/sNcDzwUoCq+hDwgaq6YsjHtc9rqyT3TDuE0YG9V/ZU2tywp/Rd/0H74vkK4Mwe0p5XVc+qqr8sqSMES+Sd0s3Tx+3HKx2vkxtrCh1B+/ZFn9RbYy+K/WndzH+jLY8eXd9it6Ll5hqfhDoyOl2tVtiBtHk6e9KGkB5ZVZdW1ftpQfdL091mLd7GvhBdSDuixZ2BfZOsWVVn0Hq5tqaVp/gHbUhyw96b/Xpgzao6vX/AzZrX6uIkyRbAj5PsAjeE5BWAPWgr1b/Re0MPBZ6aZJ3eq/5tWmX6+/bLDTLsnJsWbV06yUtovV5foq3cfVVaIeFPALv199GL+3nX0cpxUFXnj65vSf1yahgT0FZeATskeUCStZLsSVuR86L+zeyftDf0mxyotf++pKreW1XPGx+WXNJ7wuC/Dlq7epK3Jnlw/3+Strpp9DrbnfaN7/HAA9JqPVFVu1TVH4ZovxY/uXFVY/XnV6pqtIjmSnqPA6145217z8NHaL3W76ZN2t+k2so0Rtc17XdEC+JqWlX5PZM8Ncmd+yKo99KOUzuaPvJ52hfhnfr7zcm0BVSnDNHoiZ8R3e1o732rVNWhtFB2GbAZcAzwV+CoPkz5Z9pc5CvGr3dJDWJgGJv10mrRvLi/wJcDjgK+3n+/jlZv6G20EPFEmPcLYuLkzCXdWC/i5sABwH1owwZvHJ3fg1qqVdJ/P60MyLlVddXoepbUrnctfGNzbram1apbvT+/zqeVj/kzbYjqBfQjNFTVD6sVyXx6Vb25X35WvVYXU3+lTVr/FO24ke8EqHYooCuB7dIKQkN7/7k3sHJV/ae/3wxi7H3xSUk+nuS5tEKzHwJWSHKv3gP2w97m+1bV84GX0D5zvk57L718iPYPwQ+AWWrsw/9jVfXxPkxxG/rS96o6tapOpk00X4U23LFy2mGO5mo2zDWZGJzSavd8jbac/Mm0Xoj79yGGmwxh9gUQr6iqfcavY0n+xqdbJs1S/e+le8/1V2lL/79eVf/qvWQPAO4HvIY2TLUpsEva8QkBqKorx3rTlvjX6hJgGVoI+2JV7Umr2fixJLelrdLeHtgAbgjcO/SQM+0mDnWnrfB8MW0I8mW0ntu/0A7rNlrReST9mJJ9pOAi4Hm0owS8r6p+NF3tH5phbJYZDZuNDTFemuQdwLFVtTftRfPYtNpEVNXltPklv6C9MVw9UNMHleTWSd6cZIve07XhaMJpVX2cdhiZtfvup9G+2b2kn3+ToDUKZvaGaX5y04Ket+7zNc8DtqTN+fplkpWSfAz4GK222HVV9S1aCYsXV9VF49fZe2sdlpwh5vY+0APz2bTj0G6b5BG0WnDrAgfRgsupwD2mpaHzMTZsvkkPZv+h9dzeg/ZF//d9aPzrwJ2SbNcv+o6q2r+qruojNEdX1YOq6ogB7sZgLPo6i2RsuXqSuwHLVtUf+5vBubRD8PyYdsDVf1fVm5Os1f/+T5KjaOUqPjPUfRhKkpVoQfU+tOO7PY+2Gu3HtIrWj6MN525WVVenrWo7BPh0VX12mFZrSZFkb9rcmq/T6i/9D/C5qrpdP39n4PNVdW3/EPeNfTGQuZQQGVucUUmeQ1v1ejLwmqr6eVox16VpK2QH+YI82fOsPw8fQ/si8Enac/ZHwF5V9a8+l/Y62nD6FVX1ibHLzupyKn4zX8IlWT7JRtCGEJMsl+SdtFILh/T5YtfTJlN+tL+4Pg9s0cPXu2hF95amvfhnzQGqx7+xVtVltIKEVwFbV9VGwHa0SanPqaqv0/43r+sXOZe24umw6WuxFndJVkxyXJL79dPLJdmP9jzbm1Zz6S1V9R3gT0neClCtQPC1/QPNILaY6O/Ja/Shx72TPK5vr7HH8Xrg+1X10Kr6eT//1VW1xxBBLMm9ei/tqIf/rukr8blxeHxZWq/dMbS6dv9K8nhamZ/lgf3HgxjMjiku82IYW4IleQzthXHnfvo+wPuAtavq7rQyCy9NO17d/wHXJ3lJtQMHvx34OW2Y45+0wxmdQvuWMyuMTUJdP8mqVfUnWk/YfZPctv9ffkIrqHk32ofla5KsUVXXVtXJ1Y7pZ9kAzVeSW/VpAb+iTQ2ANjVgNeALtIUhK3JjGZQX0I5zOuodcx7YYibJvWgB5re099f3Jdmsnzd63ziOVhj69mOXG+Q9JcljaSMD+6Yd+3QF2grd16UVmT2f9kX/3rTDbl0FfDHJYcA7aHPf/lW98r/vjTcyjC2B+gTfHwHPpB3h/oQk29MKA64MrNjfuH9AKxD42n7RVwEf6fNUjq6qd9aNK/5+VFV71UAHk50uSd6f5I397zukFSf8LPDNJE8EfkCr6fPSfpHDaBXOn1NVvwceVlVzxq/TngrNzejDqL8er+m9sb+nffhu3XtkV6fV+Tu99478IsmG1cqhfALYGHyeLU6SbNVHG+5CCzPH0BZe/II25/SGwtG0VZP/C1w5Pnw5SMPboYouBe5FO7bp3YEdaKWPPp7kTsCqwK2r6hzasU73Br5UVQ+sVtLiBj5nb2QYWzLdmVZYdF/acQ8fRAtat6Z1E58LPLLv+yZgmySPqKrv0477dX1uXL01evHPltV+X6MNLwI8iVaC4sG0ORvb0b7xHQU8sH8TvAT4BvBLgBqoro8WP2mrH98MN3zwPoL2ul2b9qH8gSS3pj23vkKbK0ZaDcA3J1m5ql7ahyw1AyVZcS5nvZxW0HQZ2pe9/WkT2Xepqov6nNPRcOWFVfXRqrp4yPDSPwvOpy0e+CJwJq3kxh2r6r20kZRn0T5vngY31KA8oaq+0q/DcipzYRhbQkx4kv+NFiSOoa1i+THtDX134GhaMb3N0ip1n03rTl4FoKp+03+PVlvOmm8uvUfwx8APk3yS9o30YoA+Cf88WumAnwOnA6/s533LD0TdDP+kDUut0k/flVaqYr9qJVIupk2EPpD2mj0iyU9pk6LfVm3lmUM9M1Da6uvH06riL91Pb9HPW4E2JHkF7b3kB7RyQt9LskKS/Wk9ozPqce2fBbemreg8sdpRRebQ5h5vX1WvBk4A1gGuzY1Hbxm/DofR58IwtpjLjZWOR6skQ3ux/Jx2+J0vVjtcyldo9Wo2pE1E3xB4VL/s2/sE9NluFDxfADyVNk/uz0nW79t/AGzVJ81+gjavTlpg41+aqupcWnX1I3oP2DrctMjlm2jPsWWr6k3AzsAeVfXkqvr9DBiy0iSS7E4rM3JNVR0MrAU8APhCkodUOzj29cC21eoOfgh4e5IP06aVFK1m4SCP69x6r/pQ+kW0QxW9Icm7aDXOvg68J8mL+ujKplX1ytG8MC0Yw9hibmyS+RZJDqcVAvxVVT2N9oLfrb9p/5YWJvauqhOAb9ImhqrrQ0VLVatc/Q7anLs7AK9OK3a7I61gIVX156o6Y6Z9e9XMlBsPYXRd7ym5Q3/unE5bhftM2hemJydZp1/sj7RhrD36Zc+sql+Prs8QNrMk+Z8kvwYeRitYekzaAb3/l/ZYvgZ4XpI9aNXy79YXAn2bVjfuW8Azq2r3GqhcBdzki/1tRtty01poXwceTVsVuUFVvYc2f2zUMfD7fhmHJKfAOmOLoST/C1xeVR9Mq679PGAL2lj+HsCPq+oNSbaivQHsXlV/SltN+TLgzdUKR2oekpxGm6z/d1pP2UnVqmBLCyRtpfI/xk4/Afggbdn/5bTJz48BXgE8A3g1sD6toOedaXMYv1YTCrdqZulDj++iFd19et+2MvCI/nNKVR2S5B60XrO/A9fQ6oYNUjF/bpJsSwuQPwaWqqpXTjh/K2CXqnpmPz2r64MtLIaxxVCSJ9F6wB5Kmyz5IeCIqnprnxS8D/CBqjouyQG0uQmvBa712/T89d6x65M8jTY3555pdXWuHj9/4GZqBkvyP7QFNMfSPnyvptWg24D2ZegPSY6jlaz4Bu1L0n+qFVq+Ly2YHTnWE+Zzbobrc8QeRpsesjFtGshzaGFsQ+ALVXV8kg1pJYYeDdylD1cPIskyNbZCvo8AvIM2RL4CrXTPk6rqe2P7rEyb77hxtYPQj1+fBYdvJocpF0NVdRStGvMb+oTzrwLrJblNVZ1Im0T51LQDyL6PdjiNGr1I4mF45qkHsaWq6jDg70meVq2q/uiYfn4oaq6SvBb4KO3oC28FLqm26nZ14E60w8RA+8B7Fm1y/leBrZI8tKpOqao3VNWv0/mcWyx8n/ZYvgO4I7BFtdqE36KF8Yf3FbCn0hZm3HaIINYXCTwQoFqh4PGJ9pvS6tw9jraC/NUTgthSfeHIVlV16sRpGgaxm88P5cXXu4AnJrk7bcn75cCT+3kfAe5Pq3l1Wp+gf8O3H9/Y568HspVp/9czRtt8s9G89OGqBwKPrapDAMbm/3wMOBu4Sw9YP6LNu9mEtrruVVX107HrSnXTeic0Vz0b/9fnZg8p/6EFr2OAr1bVFX37P4CTaIs1NgSoqn/2UDOtkrwMOAc4sq/w3Ak4Pslb0orKngLsR1t08JCq+kiSNZNs2ts9WmX/s/7b5+ZCYhib4eY2Qbx/uzqcNox2OnA88LAkG/QVOs+rqqPHrsfHeuo2pvVAnjx0Q7R46Cvl7g7smuSx/UPug2mHNDqDNuzzEuAZaYe+KeC0qrqm2pEvbnJcwmHuheamZ+Prk6yd5AFjvUqjx+wUWq24hyZ5wNgX368D762qXw3QbJI8KsnPgK2Ah9Dmwn6HVjfxFbTwtTvtOXoosEy14xFvQVtY8iAXKy1azhmbYeY2GTLJnavqb+Nj8mmHQTmSNkfsBOANtMm+Pxq7nGP4N5P/O03F2FzDBwDvpxVvPZw29+autAMkP4XWk30lbbXzZ6rquGFarJsjyduAbWgrq9cE/reqzh29dydZD9gNuJAWwK4ZsK13Aj5A65U7h3Zc0x8muTft0Ha7VdWXkmwObEurR3kMrXRPaPfvQ9WLtmrRWWboBuhG/cN/tKz4UcBVVfWzJDv3XQ4eDwdVdUGSg4H3VNVGSV5fNx6+aLSPYeJm8n+nuZnsS9PYXMMTkzwV+DewfB+uWpFWSmZZ2lDWA4CP9Yn8hv4ZapIJ7uvTeo0e2If4nkFbRPWN0fOhqv6S5Le0MDP047op7Yv6M4EXA49Ocna1OnWfBnaiHaroR0nuSauteFJVPXXUATC6Ip+ni5ZDVzNAbqxBVEnWSXIs7SDeo8fnqGrFAyczekFRHpRamhZjX5q2S3K3TKipVO1gyNWHLaHVYTqpzx/7Em1Y6JFJVvQDbmZJqwG3G9wwwX293HiUhE1ph0L7DPBcYMeq+sZouHLsefCFqjqkBi58WlWHVzvG8HW0VZ6r0AIXtNW+qycZzTX+BXAtrWg4oyA2/vk0nW2fbRymHFDGlqv3b853oAWri6sd62uuS9r9liINJ8lmtKGck2kHTv4zsP+EXpQ70VZLPhn4C63g8l/6eZsAZ9WEg8prWD14PJg2if0ttPIT29GKtu5JKxN0HHBIVb2lX+aewHrVirfOOBOmtrwUWBf4bFX9NsmOtFpn9+/nr1btiC2aZvaMDWgsiD2C9m35nrShjRckeWeSDwLfz43HNHtkkuf0yxrEpEVssp7mJMsAj6SVJ3gu8D+0+mETDwr9T9pqyX2qaoc+fDXqZfi1QWzmSLJ+krv0HqTf0wpovxm4qKruSTve73OA1YAPA5v3HrM9afN253ZA8MH1EZfR8/i7/ffDkyxb7Zi7JyfZsIe2C8HjnQ7BOWPTqD/Bb1IzKMnzaUe+f0r140MmuRXwB1p9sPNpVfWPo9UnOnZ6Wy3NPn318ba0g3Ufm1ayYn3gT1V1ZZK70Wr4rUA7/ut7+uWW6UNbS/VesreMX+dki3M0I9wFeEmSj9KKtR5FG9IbhZJP0Arz3reqPpRkLVqV+hWBravqjAHavMBGX96r6s9JTqCtqnwocFxV7TS3/TV9DGPTqD/BK8m6tLIJh1fVp5O8Hrgb3NCl/K7+912AewBH98v/ZJCGS7PPbWiV0y9IO1bkG2g1wv4FPI1WAuDOwM5VdTZAX2hzNHDOhC9co3ph1vebITLhMFW0x3ZzWn3GJ1YraPpBYNskK1XV75KcSOsRO7Wq9u49S4vNwbDHhiu/R1vJe/zYeR7hYWAOUy5i4929ad4KHEF74X+4zzd4Oe2YdKMu5eWTvIT2xn5aVX1k+lsuzS5plckf3FdKXkjrhV4FeBLw6Kp6FHDvJNvQ6oWdDrw5rZ7YD2k9aZdPvF57GWaOtKNovAc4JslqY+/Py9EWQ11UNx7i5zjgXFqZCmhlSi6lH0FhcQpicJPesX9V1Zeq6rKx8wxiAzOMLSJ9mGPiG/H6tKXuGwG/ph1y4j594ucfkuzbL3Ml7Xh1m1bVO8evT9IiswqtGv4+Sd5He388j9YDtlLf5+3Aq2jzit4JnAXsSJu8/+SaYQd91n9ZnTaP77m0wxGNAspvq2pP4NQe1uiLLQ4HnpTkXn2O357VCrsu9pwXNrO4mnIRmLBK8v7A9lW1T9oBYg8BLgKuoRXg+1XfbwPgVGD1qrpo7LqWBjwMj7SI9dfaocBjgM9V1Uv7a/bFwIlVdVDf71u0MhV7T3YdzgubWUaho486LAt8m1aQ90TaIozr6sZSJfenLabaHFiVVuZhFeDHVfXP6W+9ZgvnjC0C1Yo/rgW8kdb9/fwkJ9OGNs6hDT2+DiDJfYB7VtVXkmxaVReNL0X2jV1a+CaWhumnr0vyBdr8oXOhHXYsyR9ow5MPrnbIorcCT5jwpWupascu9fU6g4yH4x7K1qINJZ9HO5TcTarjV9XJST4H/JC2gOrlVfVdpEXMnrGFYLJvw0k+QSug9zLaEukn044JtiNtbslnaMvhnw28q6o+M62NlmapySYrTwhWjwR2AI6sqm8mWRt4Ha3szHv7NAItJnopklcBVwPf6wF7P9pijEOq6rxJwvlmVfXLgZqsWch5SLfA2Lyw0TevtfvvZWn/28/3VVT7AFfRjgP2cVopi/vTusAfZRCTps+o5zrJm5NskWTVvm1UPf13wGnAlr2ExX1oQ1rfGA9izuOc+foIxc9p77V3p80HfDRtushGtMf2hrm9Y0OaBjFNK99MboGxb9LrJvkRcGgvU3EdbXhyo7HdDwH+N8kqVfVVWiHI51fVOX2Fj5MppUUgyW0nnN6GVvxyNdqcoc/DjV+q+kTto2nvjz8HNqh2aJsTx6/HFWiLhY2AU6rqJcBrgc8BuwN/ooXurZPcdbSzc3M1FMPYFI2+PSdZuoeod9OWPn+UNiS5AfAi4B20uWKPT3JHWnHIv9HqFUEbwhyfa+KbgLSQJbkXsH0vW3G/JKsD69Am6O9RreDlndIO7D0a0qKqfks7nuS9q2r/odqv+cuE44JO+GJ7IbBZkhWq6ipaj+fltOfA14Bb0UtVSEMyjC2gse7r0dyw0RyTVYCtgW/3Jc8fB55Jm/z5Ltr8sONoE0b3BJaeMEHfb9fSQjb2gXwprdr48cA+tB7rBwCXjO3+Ptprkxo7tmRVXVVVc/oXL3uuZ6ixaSIb9tPjX2xPpb3/vq6fvoBW0PfiqvpjVe1e/YDY0pAMY/Mxviy6n35qkqPpxR5pBVuXAe7dL3IK7cX/gao6jNZrdn9al/ibgJPtBZMWjUnq+11A662+EHhjVZ0D/Ah4Vp9PBO0D+0dzu86qus7X7MyRZL0Jp3dI8kvgDUlekVZIG4CquhT4GP14v7RCvn8ALjNgayYxjM3HhBU2jwV2ogWwS2hDkSvTXuxv7ftfDnwZuLLPVVmGVrfok7R5YodM6x2QZokJKyJfk2R34Ha0Y/AdDuyQduzIzwFnAvsm+T/afM4/DtVuLbgkmwI/T7JKP30PWs/nI4HDaDXhHjS2f6rqd7TjTf4ceEVVvbaqrjZgayaxtMV89G/au9HesHcCRqupXg58uKoO7Pv9Bjioqv5v4tL5Pl/himluurTES7I+8HDgsKq6NMn9aNMEHkAbmnw87RiTD6BVXf9CVR3biywvR5tGcGhV/WmI9mv++jy+pUY1wZJ8BTizql6XZBNaPccTadNFPlFVn8qNB2yPoUuLA4u+zt+awKa0IoAX0ybqfxrYrKquSnIH2lDIG+jfyMa+nS/dhzgMYtKi8UDgwcDfkvwa+AJwQlU9HiDJnYB9q+oV/YP7ZUleDRxTVe8HTu77LUXrCPeDe+Z5MlDAYUn+B3gJ8KskB9Jqha0J3LWqNgFIsiJwnyS/8vHU4sJhSlqRx/F5CEk2TPK0fvIa2vHMrgd+RVuBc3wPYo+jLZV+eFV9u6rePn69VuOWFo2x+T5fB/5K6x27lPZladUka/bz3wQ8Lsl9quoDtC9V3+9B7IbrckXzzJJklSS37iePBw5M8ivaMOMc4Ahaj9j5wHeAq5PcLsnWwE+BzQDnhGmxMeuHKftS998Dp9OGGT+d5EnAh4EXVtXRSd4FLF1Vr0nyCGB/4M/AHYB397pho+v7r+rekha+0RBUkofRhia/T/tg/jptHudRfajqnbQvTA+b7PLT3nDNU58P9kLa3Nvb0IaYdwCWq6pH9X2Wob1v70r7krwPrVzFurS5uR7CSIsVhylbgdYTgG8AL0xybVUd0r94P7vPQTkWeGgv2PrD/ua/Ti9lAdz4xm4Qk6bHWHmYnyR5EK137Ee08jLPBn5D6zV7I3DX8csaxGaesZqLlyRZAziGVo/x7bShypOTbFFVx/WQ/X7al+HNgD37+/Ml87gJacaa1cOU/Q35Ytox51aiVWZ+RJK9aOHsXbRvZR8A1hu90Kvq4lEQGxUc9I1dWvgyySGH0g43NvH879KGpZ7ce6pXph3OKFV1bVX9abyUga/XmWOsHMn4F9kzgGWBt1fVF3rB1o/ResDo+38C+E+SLftpg5gWW7M6jI35GrBsVR0PnAS8nnZA4FNpVfX/Atw9rYr3TeYhOC9MWvjm8gFNn6f56iTLj59fVX+kvXYf3ssd7FRVnx4PXQawmWdCOZKtkrw/yQOq6pPAa4Bt0w9XVFUfBJZP8p4kv+/TSR5ZVccMdgekhWTWzxkDSLIj8ETaJP37Au8BtqNNCN4HONcVkdL0S7IT8CTg51X1viS3oZU5uHBsn9HcsbVoZSy+MXq9Ohw58/QV6OtU1S/66ZVpNRvvTztO6OOBL1fVF5McRlv5+vG+7x2BpwJ/H5+rKy3uDGNAktVoRSA/V1W7923rA3euqmPH9lumxg6XImnhmBiakqwN7AHcCfgi7QvSO4DD/WK0eOq9nW+iTcb/G/DbqnpVD2f/U1VfSbIL8DbaPN39aNNH9gYuo5UxeVhVXTDIHZAWIYcpm4uAg4Cj4Ib6YKePBzG46XHrJC0c/fU2HsSWph214mnAZ6vqG8CbgW2A9fo+Kyd5RJJbTXJ9ljSYYXqR3Z8AG9EOHfdE4OlJ1qh2iKojk+wLbA48lnbw7mfQVkq+iVauYguDmJZUhrEb3Q1Yrn9Ddx6YNA36nKHRgZ5fleSJwFrAobRJ+Y8AqKov03pHntAD2P2BdUdV2cc5LDkjXQacC3ywf6m9L20u7sP7/L+lgEcDe/XFUcsBmwCPqKqTquojVfXPgdouLXIOU3ZJVq+qfw/dDmlJ1ydePw54bVVdnuThtBXLJ9Am4W/Xz38krX7Yl6rq+0keCuwL7FpVpw3Rdk3d2Jy+F9KOlnBbWk2wQ2mP88+BdwLvB+4M/L3v846q+s0wrZamlz1j3SiIOcQhLXIvAZ4H7NhPLwfsQlvF/Ehar8kb+iq504HtkixfVT8FnmcQm9kmK0fSHQJcTStB8tiqejewJ3APWk/ny4GjafN3n2IQ02xiGJvAIQ5p4UqyfNoxIke+Sls196Qk96iqo/v279GGJrcGduqT+I+mFWa+E0BVnTl9LddUpJtYjqT3ii1dVVfT5uXOATbo5/0aWJW2QvYq4ANV9U7fhzXbGMYkLTJJ7gZcDnymH+YGWk/YpcCRwCv7trsB366qT9HC17LA+6rqROBVVXX69LZcU9WPQFJJNkryySRPSbLhhH2+Qzu498ZJHt9LV1xDK/Lql2HNWoYxSYtMVZ1BO6zNw2m9XY+lzRV6EHAqsEaSzWiHvblfkj1otf32ph3GiKq6zukDM9PExyXJM4FPAcfRHuO398MUXTc2fPkFYHvaHLHvVtU2fUWlNGt5bEpJi0QfmrqONhdodJzInYC70A7m/U/ah/aLqur5Sf5DO6bk56rq8H4do+MV2mMygyRZqaoum1CSZBna/K+n0Xo69wY+Q+sFHT9awslJ9gRO7EOX0qznakpJC8X4oW3Gti1T7aDOnwcuph3v9bO0OUMPoH0h/ATwxao6ZMJlrZ4/w/RDEz0WWLGq3ptka9qCi69VO/7nx2j1wb4DvLOqTulFta+tqksne45IMoxJWsiSvAQ4r6oOHwtjtwHOBjalTeB+BvBN4BzgfsBpVXV5v7wf2DNMPyLJm4ELgJNpj+O1wL1oqx/vT3tMH0hbJbtbVZ2T5N604/t+tNcPkzQJ54xJullGq+fGTt85yf8BG9M+oOlB7L5VdTHwduDAXkbmE1V1dlVdW1Un9Hpj6ZcxiM0QSW6d5D20nq4TqmoP2orX84BNq2rLqnoh8Adg2/7718A3knwc+BzwZ4OYNG+GMUlTNjqEUV89N3of2QB4Du1A3ScluW2SrwHvTXK3qnoP8KAk208WuBySnFmSPJ12OKLNgd/RCvPSJ9v/BLguyTZ9948CWwCrV9U7gOcDvwAeWVXvm+amS4sdw5ikKRmbmE+StwNvTfIw2mT8T9JWykGbD/aDqnpsX1UJ8ICq+tp0t1lTk2Ql4FbAs6tqtNr1RUmW67ucRKsX98gkK1TVr2jlKZ6fZNV+CKODquqiAZovLXYMY5LmK8kdknynV8K/Lsldkhzez/4JrVzFI4EvAism2aaqzquqD/fLL933Pa2ftlTFDNZXSn6uqn7XN32Kdpiqu/TzL6D1fC1LmysGbXHGgQYwaeoMY5Lmqk8LW7oPTV0EvKGftTxtCOtgWk/YmbS6YX8AvgW8eBTA+qrI6+DGoUiHJBcPY/P4vk07ZuQOSVbsZ59Ee9w36bXEzq+qnw3TUmnxZhiTNFd9Wth1/QP4GGD7JOsAq9F6Sr5Mm9i9eVX9nVZd/1jaysn1R9cxSOM1X7022FxNmBP4PuBhtOK86atfvwq8rqouWcRNlZZohjFJN5FkyyRbjZ3emVa09c60Az2/HvglcAmwb1V9ou/3XmD3qvpLVb20qv44/a3XgkiyVJKHAGv30yv03+skuef4vlV1fQ9fp9J6Q18BrNzP+3tVXTa9rZeWPIYxSRMV8KOxydoPotWNehNtldwmfdu7ge2SfDXJL2gH8/7s6EqcFzbz9IO2P6WvZt0EeFmSrwJ7J1mTNuS87Dyu4h20eWH2hEkLkUVfJU1cIbk07bBEq1XVh5KcALy1qo7oAeuNwIOqats+fLkl8O+q+km/vJXzZ6gkGwMrV9UPkjyVdpzIrwLPraqr5/XY+bhKi449Y9IsNppk3+eF3bpXzL+ONkF//STr0nrA9uz7FXAh8NAkL6yqy6vqqLEgtpQf2DPLaBEGQFUdD/wuyRuBP9Oq6p8GrNnPHz/W5K3Hr8fHVVp0DGPSLDQaghzrDduBVtjzo0l2BQ4ArqQd9PkI4IokH+4HeH4w8DxadfWbsHr+zJHkjklWH1uEcat+1p2BdWmHMvogcHfgUWOXW7E/B7aY3hZLs5dhTJpF+uT8Y4Et+/yh9ZIcSjto95NppSreRDvG4FeBu9IOBD2qxn4vYL+q+npVXem8sJmpr4D8LPCEJCv1QxMdkuSVVXUC8D3a8PJtgK8BD0mydZK9gNsBv6iq7w7Vfmm2cc6YNAv0nrD30SbefxT4clVdlWR54HTg61X1kr7vrsBzqmrzJPsAq9JWTZ4/dn3OH5qBJgw7P4W24OIU4DpauP407SgJhwKvAf5VVe9N8kLgWcBfgF2r6toh2i/NVoYxaRZIcjfgw1W1TT99Q5hK8lzgxVX14H56VdrE7mcA9wFWqKpjxq5rKYcjZ5Yk61XVXybZfgCtl3OnqvpDko1oteE26dtfTDto+7G9cKurJKUBzLPgn6QlxlXA8km2oB1zcP1eyuBnVXVQkp2TfBB4J62H5OqquhT4+cQrMojNLEnuSpuMv1SSNWjzwE4CjgLeAhwGrNQPZXVSktNpQftQ4PvAuQAGMWk4hjFpdphD+/A9GPg3rUr+/WnV1NcGXta3XQPcHth3oHZqAfX5eqmqM5N8MckxwMm0w1ItRxuOfBZwJK0H7KPA8cAVwIk9fH1ykMZLugmHKaVZpFdX/yuwXFVdmOQFwL2q6lVJPgdcOjZ3zHlhM1CfnF8TylCsTDsE1SFV9Yq+7VW0ocjnAd+mHT3hclov6Yuq6srpbrukybmaUppFquqPVXVlVV3YN20O/K3/vTewY5J7930NYjNQVV3fjxn58CSvT/KwPqT8NmBrgCTL0oYpb0OrqH8E7SDue1TVTgYxaWYxjEmzSJJlejmLlyX5JXA9vV5YVZ0NvJA+h0gzQ3/M3pBkk7FtrwE+DqwIvCXJHlX1fuBWSXarqv8AdwSuqqorqmr/qnptVZ0zzL2QNC/OGZNmkaq6tg9p3Q/Ys6qOgxsPh1RVXxy0gfov/TFbD3hWklNpZSo2Bx5dVecmeRSwfZLNgBcA302yOvAY2nwxV8BKM5w9Y9IsU1W/rapdq+q4fqicpUaV+DUzJNk4ycPHNr0YuDfwiLEhxif03yfQ5oPdr6qOBn4GLA08qareB66AlWY6e8akWWqst8S5YTNIktvQ5n7dEfhx33wnYANgtyQnA4cDGydZo6rm9KK+y/Z9H11VV013uyXdfPaMSbOUvSUzU1VdDBwNXJrkJUneB3wR2Ae4ljZE+dO++xd7YddNgV/0bVdPb4sl3VL2jEnSzHMSbVjyzbRDVY2OjnABbZHFL4BX0OaFrQe8tE/adxWstBiyzpgkDWCsaOv1E7f30hX3oM0V+31VHThaZJHkMOAMYG97N6Ulgz1jkjSA3oNVvRDvCsCfe1X8pWnDkafTDke1VZKTquo3/aL/C6xsEJOWHM4Zk6QBJFk2yQdoB2V/LHBkkuV6KYulelj7BfAP4Lmjy1XVn8aCmaQlgGFMkqZBkqUnbLo7MKeqHkg7RNVGwEPgxsUVVfU34JfAT/thkCQtgZwzJkmLSJLHAOtU1af66fsDZ1TVZUl2Ax5HG5K8FfD6qjolyTK9d2w0R8yCrdISzjAmSQtZkrsA7wS2pNVxezqwHbA9rSjr/rRJ+GcAr6iqT/fLPQRYq6qOmP5WSxqK3d6StJAkWTrJ24FfAX+pqrWANwEfA/5YVesBv6eFs1sB7wGe0Q/6/Q7gQNrxQiXNIoYxSVoIkjwe+B1wH+DrtJWQAEcAqwLL99NfpxVm3baq3gp8C9gRuA2weVUdNX2tljQTOEwpSQtBko2AZavq10l2Ae4FfLaqTuqnX1BVD+n7PoNWsPXzVXVskmVHRVslzT72jEnSQlBVJ1XVr/vJH9Pmij28B60DgTlJXtvP/ymtF+38flmDmDSL2TMmSYtAkh2AzYAjquq4JA8HvgxsVFXnDds6STOJPWOStBD1wxwBfBe4GHhIkttW1Y+BNwJXj+0jSYYxSVqY+nElU1X/pk3i3wC4fz/vU1V1kQfzljTOYUpJWkR61f17V9Vvh26LpJnLMCZJkjQghyklSZIGZBiTJEkakGFMkiRpQIYxSZKkARnGJEmSBmQYkyRJGpBhTNIilWSfJJXk9Lmc/+d+/j6L6LYvuIXXcVBv37x+Dpp4W0nu0betOuH6ntsvs9ItaZekJccyQzdA0qxwFbBeko2r6vjRxiSbAHfp5y8KnwK+fguv423Ax8dO7wusCuw2tm0OcPWE27oH8GbgIOCiW9gGSUsww5ik6XA5cALwTOD4se3PBI4FHrQobrSq/g78/RZexxnAGaPTSf4NLFVVv5hk91t0W5JmJ4cpJU2XQ4Gnjw6S3X8/vW//L0menuSUJFcn+VuSdyRZpp+3Xh/q23rCZZZO8s8kb+un/2uYMsnqST6R5LwkVyX5WZLNbumdG7+tJFtwYy/ZX3pbz5rHZZdL8u5+P69OcvIk9+1JSX6T5PIkFyb5ZZJH3NJ2SxqeYUzSdDkcWAt4WD/9cGAN4GsTd0zyGOBLtN60bYH/A14D7A9QVX8BfgU8Y8JFH9Fv40uTNSDJrYHvA1sBrwW2ow0xfj/J7W/2PftvJ/T2AjwZeAiw/Tz2/wrwXNoQ6BOBXwNHJdmot/tufZ9j+/nPBr4BrL4Q2yxpIA5TSpoWVXVRku/QhiZ/3H9/p2+fuPtbgeOqaud++jt9n3cmeXsffjwU2CfJravq6r7fM4A/VNXv5tKM5wD3oR28+3SAJN8HTgNeTQtoC+O+XpLktH7yxKo6a277JtkS2AbYoqp+2Dd/L8k9gP8FngY8ALi0qsbb962F0VZJw7NnTNJ0OhR4au+heiqTDFEmWRp4IHDYhLO+RHvPekg//WVgZeBx/XLL0HqhJh327B4N/IY2dLjMaNgT+CGw8c25QwvBo4F/Aj8dtam365ixNp0C3CbJwUkek2TFgdoqaREwjEmaTkcBKwHvAFZk8pWOtwOWBc6bsH10enWAqvoH8BNuHKrcsl92XmHsdsCDgf9M+HkecOep3ZWF5nbA7Sdp0z6jNlXVabTh2rvSesQuSPKFJGsM0WBJC5fDlJKmTVVdnuQbwCuBw6rq8kl2u4AWRtacsH2t/vvfY9u+BOyXZHlaKDtxNPw4F/+mreZ8ySTnXT3Jtunwb+AftPlrc1VV3wS+meQ2tGHND9Lm0j1zEbdP0iJmGJM03T4G3Jqb1u66QVVdl+Q3tLlSHxs76+nA9cDPx7YdBnyINjl+e+Cd87ntY4DHAGdX1fk3q/UL7pr+e7n57HcMbb7aZVX1x/ldaVVdDHyhr6R8yPz2lzTzGcYkTauqOg44bj67vRn4bpLP0IYd70srvvrJPnl/dF3nJzkOeC+tEOuX53O9hwAvBo5L8l7gTOC2wKbAP6vqA1O8O/MymsD/oiSHAldU1SmT7Hc08F3g6CTvAn4PrAJsBCxXVa9P8iJa8PoOcA6wPi2sHrIQ2ytpIIYxSTNOVX0vyTOBN9DKOJwPvI8W0iY6FPgk8It5rVrs13tVkkfSVmu+hTb0eT6tTMZRC+0OtNv6a5LXAC8HdqcVhF13kv0qyZOBvYE9gHVoQ5cn0YYhAX4LPAl4P23O3Lm0+/ymhdlmScNIVQ3dBkmSpFnL1ZSSJEkDMoxJkiQNyDAmSZI0IMOYJEnSgAxjkiRJAzKMSZIkDcgwJkmSNCDDmCRJ0oAMY5IkSQP6fxlrd4KfAZJOAAAAAElFTkSuQmCC",
      "text/plain": [
       "<Figure size 720x720 with 1 Axes>"
      ]
     },
     "metadata": {
      "needs_background": "light"
     },
     "output_type": "display_data"
    }
   ],
   "source": [
    "fig, ax = plt.subplots(figsize=(10,10))\n",
    "\n",
    "# Get values for x and y axis for the plots\n",
    "\n",
    "popular_films = tmdb_movies['title'][0:5]\n",
    "popularity = tmdb_movies['popularity'][0:5]\n",
    "\n",
    "# Set the x and y axis\n",
    "\n",
    "ax.bar(popular_films, popularity)\n",
    "\n",
    "# Set plot charateristics\n",
    "\n",
    "ax.set_title(\"Top Box Office Movies by Popularity\", fontsize = 18)\n",
    "ax.set_ylabel(\"Popularity\", fontsize = 15)\n",
    "ax.set_xlabel(\"Movie Titles\", fontsize = 15)\n",
    "plt.xticks(rotation=30)\n"
   ]
  },
  {
   "cell_type": "markdown",
   "metadata": {},
   "source": [
    "### Most popular languages used in movies"
   ]
  },
  {
   "cell_type": "code",
<<<<<<< HEAD
   "execution_count": 95,
=======
   "execution_count": 1346,
>>>>>>> b0c6b980d17a639069cb2ac0e26c5471c93f1d7e
   "metadata": {},
   "outputs": [
    {
     "data": {
      "text/plain": [
       "Text(0.5, 0, 'Languages')"
      ]
     },
<<<<<<< HEAD
     "execution_count": 95,
=======
     "execution_count": 1346,
>>>>>>> b0c6b980d17a639069cb2ac0e26c5471c93f1d7e
     "metadata": {},
     "output_type": "execute_result"
    },
    {
     "data": {
<<<<<<< HEAD
      "image/png": "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",
      "text/plain": [
       "<Figure size 720x720 with 1 Axes>"
=======
      "image/png": "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",
      "text/plain": [
       "<Figure size 576x576 with 1 Axes>"
>>>>>>> b0c6b980d17a639069cb2ac0e26c5471c93f1d7e
      ]
     },
     "metadata": {
      "needs_background": "light"
     },
     "output_type": "display_data"
    }
   ],
<<<<<<< HEAD
   "source": [
    "fig, ax = plt.subplots(figsize=(10,10))\n",
    "\n",
    "# Get values for x and y axis for the plot\n",
    "\n",
    "languages = tmdb_movies['original_language'].value_counts()[0:5].index.to_list()\n",
    "lang_freq = tmdb_movies['original_language'].value_counts()[0:5].to_list()\n",
    "\n",
    "# Set the x and y axis\n",
    "\n",
    "ax.bar(languages, lang_freq)\n",
    "\n",
    "# Set plot charateristics\n",
    "\n",
    "ax.set_title(\"Top Languages used in Film\", fontsize = 17)\n",
    "ax.set_ylabel(\"Count\", fontsize = 15)\n",
    "ax.set_xlabel(\"Languages\", fontsize = 15)"
   ]
  },
  {
   "cell_type": "markdown",
   "metadata": {},
   "source": [
    "## 5. Conclusion\n",
    "\n",
    "From this analysis we can conclude that the movie industry is a high profit industry. We found out that the mean average expenditure was 31,587,757 USD and average gross income was 91,487,460 USD leaving a tidy figure of 59,899,703 USD as profit. With some fields grossing 2,776,345,279 USD in revenue.\n",
    "\n",
    "From the relationship between revenue and profit, it was seen that they are directly proportional, showing that a larger budget meant a higher revenue.\n",
    "\n",
    "We also determined the most popular genres in film and from this we can draw recommendations on what type of films to produce. These would be:\n",
    "* Drama\n",
    "* Documentary\n",
    "* Comedy\n",
    "* Horror\n",
    "* Comedy, Drama\n",
    "\n",
    "Although, while doing an analysis of the highest rated films, we realised that they were a mix of genres. the highest rated mix of genres were:\n",
    "* Comedy, Documentary, Fantasy\n",
    "* Documentary, Family, Musical\n",
    "* History, Sport\n",
    "* Music, Mystery\n",
    "* Drama, Fantasy, war\n",
    "\n",
    "Digging deeper into films, we analysed the highest grossing and most popular films at the Box Office, these were:\n",
    "\n",
    "Most popular:                                           \n",
    "* Avengers Infinity War                                 \n",
    "* John Wick                                              \n",
    "* Spider-Man Into the Spiderverse                        \n",
    "* The Hobbit - Battle of Five Armies                     \n",
    "* The Avengers                                           \n",
    "\n",
    "Highest Grossing:\n",
    "* Avatar\n",
    "* Titanic\n",
    "* Star Wars VII - The Force Awakens\n",
    "* Avengers Infinity War\n",
    "* Jurrasic World\n",
    "\n",
    "English was by far the most used language in film. Followed by French, Spanish, Russian and Japanese.\n",
    "\n",
    "Overall. The film industry is a high expenditure, high gains industry and the above information allows us to understand the industry further."
   ]
  },
  {
   "cell_type": "markdown",
   "metadata": {},
   "source": [
    "## 6. Recommendations & Next Steps\n",
    "\n",
    "More data is required to give a deeper understanding of the industry. This could be acquired through Web Scrapping and APIs. We could draw further insights for example, the relationship between movie popularity and revenue.\n",
    "\n",
    "We could also further analyse the relationship between budget and revenue and understand why some films made more revenue despite a smaller budget and some made less revenue with a larger budget.\n",
    "\n",
=======
   "source": [
    "fig, ax = plt.subplots(figsize=(10,10))\n",
    "\n",
    "# Get values for x and y axis for the plot\n",
    "\n",
    "languages = tmdb_movies['original_language'].value_counts()[0:5].index.to_list()\n",
    "lang_freq = tmdb_movies['original_language'].value_counts()[0:5].to_list()\n",
    "\n",
    "# Set the x and y axis\n",
    "\n",
    "ax.bar(languages, lang_freq)\n",
    "\n",
    "# Set plot charateristics\n",
    "\n",
    "ax.set_title(\"Top Languages used in Film\", fontsize = 17)\n",
    "ax.set_ylabel(\"Count\", fontsize = 15)\n",
    "ax.set_xlabel(\"Languages\", fontsize = 15)"
   ]
  },
  {
   "cell_type": "markdown",
   "metadata": {},
   "source": [
    "## 5. Conclusion\n",
    "\n",
    "From this analysis we can conclude that the movie industry is a high profit industry. We found out that the mean average expenditure was 31,587,757 USD and average gross income was 91,487,460 USD leaving a tidy figure of 59,899,703 USD as profit. With some fields grossing 2,776,345,279 USD in revenue.\n",
    "\n",
    "From the relationship between revenue and profit, it was seen that they are directly proportional, showing that a larger budget meant a higher revenue.\n",
    "\n",
    "We also determined the most popular genres in film and from this we can draw recommendations on what type of films to produce. These would be:\n",
    "* Drama\n",
    "* Documentary\n",
    "* Comedy\n",
    "* Horror\n",
    "* Comedy, Drama\n",
    "\n",
    "Although, while doing an analysis of the highest rated films, we realised that they were a mix of genres. the highest rated mix of genres were:\n",
    "* Comedy, Documentary, Fantasy\n",
    "* Documentary, Family, Musical\n",
    "* History, Sport\n",
    "* Music, Mystery\n",
    "* Drama, Fantasy, war\n",
    "\n",
    "Digging deeper into films, we analysed the highest grossing and most popular films at the Box Office, these were:\n",
    "\n",
    "Most popular:                                           \n",
    "* Avengers Infinity War                                 \n",
    "* John Wick                                              \n",
    "* Spider-Man Into the Spiderverse                        \n",
    "* The Hobbit - Battle of Five Armies                     \n",
    "* The Avengers                                           \n",
    "\n",
    "Highest Grossing:\n",
    "* Avatar\n",
    "* Titanic\n",
    "* Star Wars VII - The Force Awakens\n",
    "* Avengers Infinity War\n",
    "* Jurrasic World\n",
    "\n",
    "English was by far the most used language in film. Followed by French, Spanish, Russian and Japanese.\n",
    "\n",
    "Overall. The film industry is a high expenditure, high gains industry and the above information allows us to understand the industry further."
   ]
  },
  {
   "cell_type": "markdown",
   "metadata": {},
   "source": [
    "## 6. Recommendations & Next Steps\n",
    "\n",
    "More data is required to give a deeper understanding of the industry. This could be acquired through Web Scrapping and APIs. We could draw further insights for example, the relationship between movie popularity and revenue.\n",
    "\n",
    "We could also further analyse the relationship between budget and revenue and understand why some films made more revenue despite a smaller budget and some made less revenue with a larger budget.\n",
    "\n",
>>>>>>> b0c6b980d17a639069cb2ac0e26c5471c93f1d7e
    "Further analysis in film release dates could allow us to know if they is any relationship between film success and release dates."
   ]
  }
 ],
 "metadata": {
  "kernelspec": {
   "display_name": "Python 3",
   "language": "python",
   "name": "python3"
  },
  "language_info": {
   "codemirror_mode": {
    "name": "ipython",
    "version": 3
   },
   "file_extension": ".py",
   "mimetype": "text/x-python",
   "name": "python",
   "nbconvert_exporter": "python",
   "pygments_lexer": "ipython3",
   "version": "3.8.5"
  }
 },
 "nbformat": 4,
 "nbformat_minor": 2
}
